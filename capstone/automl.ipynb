{
  "cells": [
    {
      "cell_type": "markdown",
      "source": [
        "# Automated ML\n",
        "\n",
        "TODO: Import Dependencies. In the cell below, import all the dependencies that you will need to complete the project."
      ],
      "metadata": {}
    },
    {
      "cell_type": "code",
      "source": [
        "from azureml.core import Workspace, Experiment\r\n",
        "from azureml.core.compute import ComputeTarget, AmlCompute\r\n",
        "from azureml.core.compute_target import ComputeTargetException\r\n",
        "from azureml.core import Environment\r\n",
        "from azureml.core.dataset import Dataset\r\n",
        "from azureml.widgets import RunDetails\r\n",
        "\r\n",
        "import os\r\n",
        "import pandas as pd\r\n",
        "from train import clean_data\r\n",
        "from sklearn.model_selection import train_test_split\r\n",
        "from sklearn.metrics import classification_report, confusion_matrix, accuracy_score\r\n",
        "import pickle\r\n",
        "import joblib\r\n",
        "\r\n",
        "from azureml.train.automl import AutoMLConfig\r\n"
      ],
      "outputs": [],
      "execution_count": 1,
      "metadata": {
        "gather": {
          "logged": 1609229323097
        },
        "jupyter": {
          "outputs_hidden": false,
          "source_hidden": false
        },
        "nteract": {
          "transient": {
            "deleting": false
          }
        }
      }
    },
    {
      "cell_type": "markdown",
      "source": [
        "## Dataset\n",
        "\n",
        "### Overview\n",
        "TODO: In this markdown cell, give an overview of the dataset you are using. Also mention the task you will be performing.\n",
        "\n",
        "\n",
        "TODO: Get data. In the cell below, write code to access the data you will be using in this project. Remember that the dataset needs to be external."
      ],
      "metadata": {}
    },
    {
      "cell_type": "code",
      "source": [
        "#ws = Workspace.from_config()\n",
        "ws = Workspace.get(name=\"quick-starts-ws-132278\")\n",
        "\n",
        "# choose a name for experiment\n",
        "experiment_name = 'automl'\n",
        "\n",
        "experiment=Experiment(ws, experiment_name)"
      ],
      "outputs": [],
      "execution_count": 2,
      "metadata": {
        "gather": {
          "logged": 1609229327556
        },
        "jupyter": {
          "outputs_hidden": false,
          "source_hidden": false
        },
        "nteract": {
          "transient": {
            "deleting": false
          }
        }
      }
    },
    {
      "cell_type": "code",
      "source": [
        "#  Create compute cluster\r\n",
        "\r\n",
        "cluster_name = \"cpu-cluster\"\r\n",
        "try:\r\n",
        "    compute_target = ComputeTarget(workspace=ws, name=cluster_name)\r\n",
        "    print('Found existing compute target')\r\n",
        "except ComputeTargetException:\r\n",
        "    print('Creating a new compute target...')\r\n",
        "    compute_config = AmlCompute.provisioning_configuration(vm_size='STANDARD_D2_V2', \r\n",
        "                                                           max_nodes=4)\r\n",
        "\r\n",
        "    # create the cluster\r\n",
        "    compute_target = ComputeTarget.create(ws, cluster_name, compute_config)\r\n",
        "\r\n",
        "# can poll for a minimum number of nodes and for a specific timeout. \r\n",
        "# if no min node count is provided it uses the scale settings for the cluster\r\n",
        "compute_target.wait_for_completion(show_output=True, min_node_count=None, timeout_in_minutes=20)\r\n",
        "\r\n",
        "# use get_status() to get a detailed status for the current cluster. \r\n",
        "print(compute_target.get_status().serialize())"
      ],
      "outputs": [
        {
          "output_type": "stream",
          "name": "stdout",
          "text": [
            "Found existing compute target\n",
            "Succeeded\n",
            "AmlCompute wait for completion finished\n",
            "\n",
            "Minimum number of nodes requested have been provisioned\n",
            "{'currentNodeCount': 0, 'targetNodeCount': 0, 'nodeStateCounts': {'preparingNodeCount': 0, 'runningNodeCount': 0, 'idleNodeCount': 0, 'unusableNodeCount': 0, 'leavingNodeCount': 0, 'preemptedNodeCount': 0}, 'allocationState': 'Steady', 'allocationStateTransitionTime': '2020-12-29T07:17:45.577000+00:00', 'errors': None, 'creationTime': '2020-12-29T07:17:39.567563+00:00', 'modifiedTime': '2020-12-29T07:17:55.643850+00:00', 'provisioningState': 'Succeeded', 'provisioningStateTransitionTime': None, 'scaleSettings': {'minNodeCount': 0, 'maxNodeCount': 4, 'nodeIdleTimeBeforeScaleDown': 'PT120S'}, 'vmPriority': 'Dedicated', 'vmSize': 'STANDARD_D2_V2'}\n"
          ]
        }
      ],
      "execution_count": 3,
      "metadata": {
        "collapsed": true,
        "jupyter": {
          "source_hidden": false,
          "outputs_hidden": false
        },
        "nteract": {
          "transient": {
            "deleting": false
          }
        },
        "gather": {
          "logged": 1609229332860
        }
      }
    },
    {
      "cell_type": "code",
      "source": [
        "# Get dataset\r\n",
        "key = \"Titanic\"\r\n",
        "description_text = \"Titanic survival dataset\"\r\n",
        "if key in ws.datasets.keys(): \r\n",
        "    print(\"Found registered dataset\")\r\n",
        "    ds = ws.datasets[key] \r\n",
        "else:\r\n",
        "    print(\"Cannot find registered dataset\")\r\n",
        "    # Get dataset \r\n",
        "    data_file = \"https://raw.githubusercontent.com/shbv/azure_ml/main/capstone/titanic_data.csv\"\r\n",
        "    ds = Dataset.Tabular.from_delimited_files(data_file)\r\n",
        "    #Register Dataset in Workspace\r\n",
        "    dataset = dataset.register(workspace=ws,\r\n",
        "                                name=key,\r\n",
        "                                description=description_text)\r\n",
        "    print(\"Registered dataset\")\r\n",
        "\r\n",
        "df = ds.to_pandas_dataframe()\r\n",
        "print(df.shape)\r\n",
        "df.head()"
      ],
      "outputs": [
        {
          "output_type": "stream",
          "name": "stdout",
          "text": [
            "Found registered dataset\n",
            "(891, 12)\n"
          ]
        },
        {
          "output_type": "execute_result",
          "execution_count": 16,
          "data": {
            "text/plain": "   PassengerId  Survived  Pclass  \\\n0            1         0       3   \n1            2         1       1   \n2            3         1       3   \n3            4         1       1   \n4            5         0       3   \n\n                                                Name     Sex   Age  SibSp  \\\n0                            Braund, Mr. Owen Harris    male 22.00      1   \n1  Cumings, Mrs. John Bradley (Florence Briggs Th...  female 38.00      1   \n2                             Heikkinen, Miss. Laina  female 26.00      0   \n3       Futrelle, Mrs. Jacques Heath (Lily May Peel)  female 35.00      1   \n4                           Allen, Mr. William Henry    male 35.00      0   \n\n   Parch            Ticket  Fare Cabin Embarked  \n0      0         A/5 21171  7.25  None        S  \n1      0          PC 17599 71.28   C85        C  \n2      0  STON/O2. 3101282  7.92  None        S  \n3      0            113803 53.10  C123        S  \n4      0            373450  8.05  None        S  ",
            "text/html": "<div>\n<style scoped>\n    .dataframe tbody tr th:only-of-type {\n        vertical-align: middle;\n    }\n\n    .dataframe tbody tr th {\n        vertical-align: top;\n    }\n\n    .dataframe thead th {\n        text-align: right;\n    }\n</style>\n<table border=\"1\" class=\"dataframe\">\n  <thead>\n    <tr style=\"text-align: right;\">\n      <th></th>\n      <th>PassengerId</th>\n      <th>Survived</th>\n      <th>Pclass</th>\n      <th>Name</th>\n      <th>Sex</th>\n      <th>Age</th>\n      <th>SibSp</th>\n      <th>Parch</th>\n      <th>Ticket</th>\n      <th>Fare</th>\n      <th>Cabin</th>\n      <th>Embarked</th>\n    </tr>\n  </thead>\n  <tbody>\n    <tr>\n      <th>0</th>\n      <td>1</td>\n      <td>0</td>\n      <td>3</td>\n      <td>Braund, Mr. Owen Harris</td>\n      <td>male</td>\n      <td>22.00</td>\n      <td>1</td>\n      <td>0</td>\n      <td>A/5 21171</td>\n      <td>7.25</td>\n      <td>None</td>\n      <td>S</td>\n    </tr>\n    <tr>\n      <th>1</th>\n      <td>2</td>\n      <td>1</td>\n      <td>1</td>\n      <td>Cumings, Mrs. John Bradley (Florence Briggs Th...</td>\n      <td>female</td>\n      <td>38.00</td>\n      <td>1</td>\n      <td>0</td>\n      <td>PC 17599</td>\n      <td>71.28</td>\n      <td>C85</td>\n      <td>C</td>\n    </tr>\n    <tr>\n      <th>2</th>\n      <td>3</td>\n      <td>1</td>\n      <td>3</td>\n      <td>Heikkinen, Miss. Laina</td>\n      <td>female</td>\n      <td>26.00</td>\n      <td>0</td>\n      <td>0</td>\n      <td>STON/O2. 3101282</td>\n      <td>7.92</td>\n      <td>None</td>\n      <td>S</td>\n    </tr>\n    <tr>\n      <th>3</th>\n      <td>4</td>\n      <td>1</td>\n      <td>1</td>\n      <td>Futrelle, Mrs. Jacques Heath (Lily May Peel)</td>\n      <td>female</td>\n      <td>35.00</td>\n      <td>1</td>\n      <td>0</td>\n      <td>113803</td>\n      <td>53.10</td>\n      <td>C123</td>\n      <td>S</td>\n    </tr>\n    <tr>\n      <th>4</th>\n      <td>5</td>\n      <td>0</td>\n      <td>3</td>\n      <td>Allen, Mr. William Henry</td>\n      <td>male</td>\n      <td>35.00</td>\n      <td>0</td>\n      <td>0</td>\n      <td>373450</td>\n      <td>8.05</td>\n      <td>None</td>\n      <td>S</td>\n    </tr>\n  </tbody>\n</table>\n</div>"
          },
          "metadata": {}
        }
      ],
      "execution_count": 16,
      "metadata": {
        "collapsed": true,
        "jupyter": {
          "source_hidden": false,
          "outputs_hidden": false
        },
        "nteract": {
          "transient": {
            "deleting": false
          }
        },
        "gather": {
          "logged": 1609231742828
        }
      }
    },
    {
      "cell_type": "code",
      "source": [
        "# Use the clean_data function to clean your data.\r\n",
        "label = \"Survived\"\r\n",
        "data, y = clean_data(ds)\r\n",
        "data[label] = y  # Add label column into data\r\n",
        "print(data.shape)\r\n",
        "data.head()"
      ],
      "outputs": [
        {
          "output_type": "stream",
          "name": "stdout",
          "text": [
            "(891, 8)\n"
          ]
        },
        {
          "output_type": "execute_result",
          "execution_count": 5,
          "data": {
            "text/plain": "   Pclass  Sex   Age  SibSp  Parch     Fare  Embarked  Survived\n0       3    0  22.0      1      0   7.2500         2         0\n1       1    0  38.0      1      0  71.2833         0         1\n2       3    0  26.0      0      0   7.9250         2         1\n3       1    0  35.0      1      0  53.1000         2         1\n4       3    0  35.0      0      0   8.0500         2         0",
            "text/html": "<div>\n<style scoped>\n    .dataframe tbody tr th:only-of-type {\n        vertical-align: middle;\n    }\n\n    .dataframe tbody tr th {\n        vertical-align: top;\n    }\n\n    .dataframe thead th {\n        text-align: right;\n    }\n</style>\n<table border=\"1\" class=\"dataframe\">\n  <thead>\n    <tr style=\"text-align: right;\">\n      <th></th>\n      <th>Pclass</th>\n      <th>Sex</th>\n      <th>Age</th>\n      <th>SibSp</th>\n      <th>Parch</th>\n      <th>Fare</th>\n      <th>Embarked</th>\n      <th>Survived</th>\n    </tr>\n  </thead>\n  <tbody>\n    <tr>\n      <th>0</th>\n      <td>3</td>\n      <td>0</td>\n      <td>22.0</td>\n      <td>1</td>\n      <td>0</td>\n      <td>7.2500</td>\n      <td>2</td>\n      <td>0</td>\n    </tr>\n    <tr>\n      <th>1</th>\n      <td>1</td>\n      <td>0</td>\n      <td>38.0</td>\n      <td>1</td>\n      <td>0</td>\n      <td>71.2833</td>\n      <td>0</td>\n      <td>1</td>\n    </tr>\n    <tr>\n      <th>2</th>\n      <td>3</td>\n      <td>0</td>\n      <td>26.0</td>\n      <td>0</td>\n      <td>0</td>\n      <td>7.9250</td>\n      <td>2</td>\n      <td>1</td>\n    </tr>\n    <tr>\n      <th>3</th>\n      <td>1</td>\n      <td>0</td>\n      <td>35.0</td>\n      <td>1</td>\n      <td>0</td>\n      <td>53.1000</td>\n      <td>2</td>\n      <td>1</td>\n    </tr>\n    <tr>\n      <th>4</th>\n      <td>3</td>\n      <td>0</td>\n      <td>35.0</td>\n      <td>0</td>\n      <td>0</td>\n      <td>8.0500</td>\n      <td>2</td>\n      <td>0</td>\n    </tr>\n  </tbody>\n</table>\n</div>"
          },
          "metadata": {}
        }
      ],
      "execution_count": 5,
      "metadata": {
        "collapsed": true,
        "jupyter": {
          "source_hidden": false,
          "outputs_hidden": false
        },
        "nteract": {
          "transient": {
            "deleting": false
          }
        },
        "gather": {
          "logged": 1609229350641
        }
      }
    },
    {
      "cell_type": "code",
      "source": [
        "# Save the train data to a csv to be uploaded to the datastore\r\n",
        "if not os.path.isdir('data'):\r\n",
        "    os.mkdir('data')    \r\n",
        "pd.DataFrame(data).to_csv(\"data/train_data.csv\", index=False)\r\n",
        "ds = ws.get_default_datastore()\r\n",
        "ds.upload(src_dir='./data', target_path='Titanic', overwrite=True, show_progress=True)"
      ],
      "outputs": [
        {
          "output_type": "stream",
          "name": "stdout",
          "text": [
            "Uploading an estimated of 1 files\n",
            "Uploading ./data/train_data.csv\n",
            "Uploaded ./data/train_data.csv, 1 files out of an estimated total of 1\n",
            "Uploaded 1 files\n"
          ]
        },
        {
          "output_type": "execute_result",
          "execution_count": 6,
          "data": {
            "text/plain": "$AZUREML_DATAREFERENCE_8479e315b73f45f5a160880f97cb407d"
          },
          "metadata": {}
        }
      ],
      "execution_count": 6,
      "metadata": {
        "collapsed": true,
        "jupyter": {
          "source_hidden": false,
          "outputs_hidden": false
        },
        "nteract": {
          "transient": {
            "deleting": false
          }
        },
        "gather": {
          "logged": 1609229355314
        }
      }
    },
    {
      "cell_type": "code",
      "source": [
        "# Upload the training data as a tabular dataset for access during training on remote compute\r\n",
        "# automl doesnt accept dataframe or csv \r\n",
        "train_data = Dataset.Tabular.from_delimited_files(path=ds.path('Titanic/train_data.csv'))"
      ],
      "outputs": [],
      "execution_count": 7,
      "metadata": {
        "collapsed": true,
        "jupyter": {
          "source_hidden": false,
          "outputs_hidden": false
        },
        "nteract": {
          "transient": {
            "deleting": false
          }
        },
        "gather": {
          "logged": 1609229362015
        }
      }
    },
    {
      "cell_type": "markdown",
      "source": [
        "## AutoML Configuration\n",
        "\n",
        "TODO: Explain why you chose the automl settings and cofiguration you used below."
      ],
      "metadata": {}
    },
    {
      "cell_type": "code",
      "source": [
        "# TODO: Put your automl settings here\r\n",
        "# Set parameters for AutoMLConfig\r\n",
        "automl_settings = {\r\n",
        "    \"enable_early_stopping\" : True,\r\n",
        "    \"iteration_timeout_minutes\": 5,\r\n",
        "    \"max_concurrent_iterations\": 4,\r\n",
        "    \"featurization\": 'auto',\r\n",
        "    \"verbosity\": logging.INFO,\r\n",
        "}\r\n",
        "\r\n",
        "# TODO: Put your automl config here\r\n",
        "automl_config = AutoMLConfig(\r\n",
        "    experiment_timeout_minutes=20,\r\n",
        "    task='classification',\r\n",
        "    compute_target=compute_target,\r\n",
        "    debug_log = 'automl_errors.log',\r\n",
        "    primary_metric='accuracy',\r\n",
        "    training_data=train_data,\r\n",
        "    label_column_name=label,\r\n",
        "    n_cross_validations=5,\r\n",
        "    **automl_settings)"
      ],
      "outputs": [],
      "execution_count": 8,
      "metadata": {
        "collapsed": true,
        "jupyter": {
          "source_hidden": false,
          "outputs_hidden": false
        },
        "nteract": {
          "transient": {
            "deleting": false
          }
        },
        "gather": {
          "logged": 1609229421360
        }
      }
    },
    {
      "cell_type": "code",
      "source": [
        "# TODO: Submit your experiment\n",
        "remote_run = experiment.submit(automl_config)"
      ],
      "outputs": [
        {
          "output_type": "stream",
          "name": "stdout",
          "text": [
            "Running on remote.\n"
          ]
        }
      ],
      "execution_count": 9,
      "metadata": {
        "gather": {
          "logged": 1609229442055
        },
        "jupyter": {
          "outputs_hidden": false,
          "source_hidden": false
        },
        "nteract": {
          "transient": {
            "deleting": false
          }
        }
      }
    },
    {
      "cell_type": "markdown",
      "source": [
        "## Run Details\n",
        "\n",
        "OPTIONAL: Write about the different models trained and their performance. Why do you think some models did better than others?\n",
        "\n",
        "TODO: In the cell below, use the `RunDetails` widget to show the different experiments."
      ],
      "metadata": {}
    },
    {
      "cell_type": "code",
      "source": [
        "RunDetails(remote_run).show()\r\n",
        "remote_run.wait_for_completion(show_output=True)"
      ],
      "outputs": [
        {
          "output_type": "display_data",
          "data": {
            "text/plain": "_AutoMLWidget(widget_settings={'childWidgetDisplay': 'popup', 'send_telemetry': False, 'log_level': 'INFO', 's…",
            "application/vnd.jupyter.widget-view+json": {
              "version_major": 2,
              "version_minor": 0,
              "model_id": "1b6ad6ff638246a4b0eb9d4efc771db3"
            }
          },
          "metadata": {}
        },
        {
          "output_type": "display_data",
          "data": {
            "application/aml.mini.widget.v1": "{\"status\": \"Completed\", \"workbench_run_details_uri\": \"https://ml.azure.com/experiments/automl/runs/AutoML_16f5e833-a184-4cd4-94d6-114ed3982447?wsid=/subscriptions/6b4af8be-9931-443e-90f6-c4c34a1f9737/resourcegroups/aml-quickstarts-132278/workspaces/quick-starts-ws-132278\", \"run_id\": \"AutoML_16f5e833-a184-4cd4-94d6-114ed3982447\", \"run_properties\": {\"run_id\": \"AutoML_16f5e833-a184-4cd4-94d6-114ed3982447\", \"created_utc\": \"2020-12-29T08:10:30.96373Z\", \"properties\": {\"num_iterations\": \"1000\", \"training_type\": \"TrainFull\", \"acquisition_function\": \"EI\", \"primary_metric\": \"accuracy\", \"train_split\": \"0\", \"acquisition_parameter\": \"0\", \"num_cross_validation\": \"5\", \"target\": \"cpu-cluster\", \"AMLSettingsJsonString\": \"{\\\"path\\\":null,\\\"name\\\":\\\"automl\\\",\\\"subscription_id\\\":\\\"6b4af8be-9931-443e-90f6-c4c34a1f9737\\\",\\\"resource_group\\\":\\\"aml-quickstarts-132278\\\",\\\"workspace_name\\\":\\\"quick-starts-ws-132278\\\",\\\"region\\\":\\\"southcentralus\\\",\\\"compute_target\\\":\\\"cpu-cluster\\\",\\\"spark_service\\\":null,\\\"azure_service\\\":\\\"remote\\\",\\\"many_models\\\":false,\\\"pipeline_fetch_max_batch_size\\\":1,\\\"iterations\\\":1000,\\\"primary_metric\\\":\\\"accuracy\\\",\\\"task_type\\\":\\\"classification\\\",\\\"data_script\\\":null,\\\"validation_size\\\":0.0,\\\"n_cross_validations\\\":5,\\\"y_min\\\":null,\\\"y_max\\\":null,\\\"num_classes\\\":null,\\\"featurization\\\":\\\"auto\\\",\\\"_ignore_package_version_incompatibilities\\\":false,\\\"is_timeseries\\\":false,\\\"max_cores_per_iteration\\\":1,\\\"max_concurrent_iterations\\\":4,\\\"iteration_timeout_minutes\\\":5,\\\"mem_in_mb\\\":null,\\\"enforce_time_on_windows\\\":false,\\\"experiment_timeout_minutes\\\":20,\\\"experiment_exit_score\\\":null,\\\"whitelist_models\\\":null,\\\"blacklist_algos\\\":[\\\"TensorFlowLinearClassifier\\\",\\\"TensorFlowDNN\\\"],\\\"supported_models\\\":[\\\"XGBoostClassifier\\\",\\\"AveragedPerceptronClassifier\\\",\\\"LightGBM\\\",\\\"DecisionTree\\\",\\\"SGD\\\",\\\"MultinomialNaiveBayes\\\",\\\"GradientBoosting\\\",\\\"LogisticRegression\\\",\\\"RandomForest\\\",\\\"ExtremeRandomTrees\\\",\\\"SVM\\\",\\\"TensorFlowDNN\\\",\\\"TensorFlowLinearClassifier\\\",\\\"KNN\\\",\\\"LinearSVM\\\",\\\"BernoulliNaiveBayes\\\"],\\\"auto_blacklist\\\":true,\\\"blacklist_samples_reached\\\":false,\\\"exclude_nan_labels\\\":true,\\\"verbosity\\\":20,\\\"_debug_log\\\":\\\"azureml_automl.log\\\",\\\"show_warnings\\\":false,\\\"model_explainability\\\":true,\\\"service_url\\\":null,\\\"sdk_url\\\":null,\\\"sdk_packages\\\":null,\\\"enable_onnx_compatible_models\\\":false,\\\"enable_split_onnx_featurizer_estimator_models\\\":false,\\\"vm_type\\\":\\\"STANDARD_D2_V2\\\",\\\"telemetry_verbosity\\\":20,\\\"send_telemetry\\\":true,\\\"enable_dnn\\\":false,\\\"scenario\\\":\\\"SDK-1.13.0\\\",\\\"environment_label\\\":null,\\\"force_text_dnn\\\":false,\\\"enable_feature_sweeping\\\":true,\\\"enable_early_stopping\\\":true,\\\"early_stopping_n_iters\\\":10,\\\"metrics\\\":null,\\\"enable_ensembling\\\":true,\\\"enable_stack_ensembling\\\":true,\\\"ensemble_iterations\\\":15,\\\"enable_tf\\\":false,\\\"enable_subsampling\\\":null,\\\"subsample_seed\\\":null,\\\"enable_nimbusml\\\":false,\\\"enable_streaming\\\":false,\\\"force_streaming\\\":false,\\\"track_child_runs\\\":true,\\\"allowed_private_models\\\":[],\\\"label_column_name\\\":\\\"Survived\\\",\\\"weight_column_name\\\":null,\\\"cv_split_column_names\\\":null,\\\"enable_local_managed\\\":false,\\\"_local_managed_run_id\\\":null,\\\"cost_mode\\\":1,\\\"lag_length\\\":0,\\\"metric_operation\\\":\\\"maximize\\\",\\\"preprocess\\\":true}\", \"DataPrepJsonString\": \"{\\\\\\\"training_data\\\\\\\": \\\\\\\"{\\\\\\\\\\\\\\\"blocks\\\\\\\\\\\\\\\": [{\\\\\\\\\\\\\\\"id\\\\\\\\\\\\\\\": \\\\\\\\\\\\\\\"59f9fb6a-0aad-45e4-8039-fb154e6c9b63\\\\\\\\\\\\\\\", \\\\\\\\\\\\\\\"type\\\\\\\\\\\\\\\": \\\\\\\\\\\\\\\"Microsoft.DPrep.GetDatastoreFilesBlock\\\\\\\\\\\\\\\", \\\\\\\\\\\\\\\"arguments\\\\\\\\\\\\\\\": {\\\\\\\\\\\\\\\"datastores\\\\\\\\\\\\\\\": [{\\\\\\\\\\\\\\\"datastoreName\\\\\\\\\\\\\\\": \\\\\\\\\\\\\\\"workspaceblobstore\\\\\\\\\\\\\\\", \\\\\\\\\\\\\\\"path\\\\\\\\\\\\\\\": \\\\\\\\\\\\\\\"Titanic/train_data.csv\\\\\\\\\\\\\\\", \\\\\\\\\\\\\\\"resourceGroup\\\\\\\\\\\\\\\": \\\\\\\\\\\\\\\"aml-quickstarts-132278\\\\\\\\\\\\\\\", \\\\\\\\\\\\\\\"subscription\\\\\\\\\\\\\\\": \\\\\\\\\\\\\\\"6b4af8be-9931-443e-90f6-c4c34a1f9737\\\\\\\\\\\\\\\", \\\\\\\\\\\\\\\"workspaceName\\\\\\\\\\\\\\\": \\\\\\\\\\\\\\\"quick-starts-ws-132278\\\\\\\\\\\\\\\"}]}, \\\\\\\\\\\\\\\"localData\\\\\\\\\\\\\\\": {}, \\\\\\\\\\\\\\\"isEnabled\\\\\\\\\\\\\\\": true, \\\\\\\\\\\\\\\"name\\\\\\\\\\\\\\\": null, \\\\\\\\\\\\\\\"annotation\\\\\\\\\\\\\\\": null}, {\\\\\\\\\\\\\\\"id\\\\\\\\\\\\\\\": \\\\\\\\\\\\\\\"a11191a9-c43d-4df3-8a95-6631871faae0\\\\\\\\\\\\\\\", \\\\\\\\\\\\\\\"type\\\\\\\\\\\\\\\": \\\\\\\\\\\\\\\"Microsoft.DPrep.ParseDelimitedBlock\\\\\\\\\\\\\\\", \\\\\\\\\\\\\\\"arguments\\\\\\\\\\\\\\\": {\\\\\\\\\\\\\\\"columnHeadersMode\\\\\\\\\\\\\\\": 3, \\\\\\\\\\\\\\\"fileEncoding\\\\\\\\\\\\\\\": 0, \\\\\\\\\\\\\\\"handleQuotedLineBreaks\\\\\\\\\\\\\\\": false, \\\\\\\\\\\\\\\"preview\\\\\\\\\\\\\\\": false, \\\\\\\\\\\\\\\"separator\\\\\\\\\\\\\\\": \\\\\\\\\\\\\\\",\\\\\\\\\\\\\\\", \\\\\\\\\\\\\\\"skipRows\\\\\\\\\\\\\\\": 0, \\\\\\\\\\\\\\\"skipRowsMode\\\\\\\\\\\\\\\": 0}, \\\\\\\\\\\\\\\"localData\\\\\\\\\\\\\\\": {}, \\\\\\\\\\\\\\\"isEnabled\\\\\\\\\\\\\\\": true, \\\\\\\\\\\\\\\"name\\\\\\\\\\\\\\\": null, \\\\\\\\\\\\\\\"annotation\\\\\\\\\\\\\\\": null}, {\\\\\\\\\\\\\\\"id\\\\\\\\\\\\\\\": \\\\\\\\\\\\\\\"3ca69f6f-d13a-430e-8654-5523182b5c3b\\\\\\\\\\\\\\\", \\\\\\\\\\\\\\\"type\\\\\\\\\\\\\\\": \\\\\\\\\\\\\\\"Microsoft.DPrep.DropColumnsBlock\\\\\\\\\\\\\\\", \\\\\\\\\\\\\\\"arguments\\\\\\\\\\\\\\\": {\\\\\\\\\\\\\\\"columns\\\\\\\\\\\\\\\": {\\\\\\\\\\\\\\\"type\\\\\\\\\\\\\\\": 0, \\\\\\\\\\\\\\\"details\\\\\\\\\\\\\\\": {\\\\\\\\\\\\\\\"selectedColumns\\\\\\\\\\\\\\\": [\\\\\\\\\\\\\\\"Path\\\\\\\\\\\\\\\"]}}}, \\\\\\\\\\\\\\\"localData\\\\\\\\\\\\\\\": {}, \\\\\\\\\\\\\\\"isEnabled\\\\\\\\\\\\\\\": true, \\\\\\\\\\\\\\\"name\\\\\\\\\\\\\\\": null, \\\\\\\\\\\\\\\"annotation\\\\\\\\\\\\\\\": null}, {\\\\\\\\\\\\\\\"id\\\\\\\\\\\\\\\": \\\\\\\\\\\\\\\"facf45b0-d329-479d-b1ce-5752f70c6a99\\\\\\\\\\\\\\\", \\\\\\\\\\\\\\\"type\\\\\\\\\\\\\\\": \\\\\\\\\\\\\\\"Microsoft.DPrep.SetColumnTypesBlock\\\\\\\\\\\\\\\", \\\\\\\\\\\\\\\"arguments\\\\\\\\\\\\\\\": {\\\\\\\\\\\\\\\"columnConversion\\\\\\\\\\\\\\\": [{\\\\\\\\\\\\\\\"column\\\\\\\\\\\\\\\": {\\\\\\\\\\\\\\\"type\\\\\\\\\\\\\\\": 2, \\\\\\\\\\\\\\\"details\\\\\\\\\\\\\\\": {\\\\\\\\\\\\\\\"selectedColumn\\\\\\\\\\\\\\\": \\\\\\\\\\\\\\\"Pclass\\\\\\\\\\\\\\\"}}, \\\\\\\\\\\\\\\"typeProperty\\\\\\\\\\\\\\\": 2}, {\\\\\\\\\\\\\\\"column\\\\\\\\\\\\\\\": {\\\\\\\\\\\\\\\"type\\\\\\\\\\\\\\\": 2, \\\\\\\\\\\\\\\"details\\\\\\\\\\\\\\\": {\\\\\\\\\\\\\\\"selectedColumn\\\\\\\\\\\\\\\": \\\\\\\\\\\\\\\"Sex\\\\\\\\\\\\\\\"}}, \\\\\\\\\\\\\\\"typeProperty\\\\\\\\\\\\\\\": 2}, {\\\\\\\\\\\\\\\"column\\\\\\\\\\\\\\\": {\\\\\\\\\\\\\\\"type\\\\\\\\\\\\\\\": 2, \\\\\\\\\\\\\\\"details\\\\\\\\\\\\\\\": {\\\\\\\\\\\\\\\"selectedColumn\\\\\\\\\\\\\\\": \\\\\\\\\\\\\\\"Age\\\\\\\\\\\\\\\"}}, \\\\\\\\\\\\\\\"typeProperty\\\\\\\\\\\\\\\": 3}, {\\\\\\\\\\\\\\\"column\\\\\\\\\\\\\\\": {\\\\\\\\\\\\\\\"type\\\\\\\\\\\\\\\": 2, \\\\\\\\\\\\\\\"details\\\\\\\\\\\\\\\": {\\\\\\\\\\\\\\\"selectedColumn\\\\\\\\\\\\\\\": \\\\\\\\\\\\\\\"SibSp\\\\\\\\\\\\\\\"}}, \\\\\\\\\\\\\\\"typeProperty\\\\\\\\\\\\\\\": 2}, {\\\\\\\\\\\\\\\"column\\\\\\\\\\\\\\\": {\\\\\\\\\\\\\\\"type\\\\\\\\\\\\\\\": 2, \\\\\\\\\\\\\\\"details\\\\\\\\\\\\\\\": {\\\\\\\\\\\\\\\"selectedColumn\\\\\\\\\\\\\\\": \\\\\\\\\\\\\\\"Parch\\\\\\\\\\\\\\\"}}, \\\\\\\\\\\\\\\"typeProperty\\\\\\\\\\\\\\\": 2}, {\\\\\\\\\\\\\\\"column\\\\\\\\\\\\\\\": {\\\\\\\\\\\\\\\"type\\\\\\\\\\\\\\\": 2, \\\\\\\\\\\\\\\"details\\\\\\\\\\\\\\\": {\\\\\\\\\\\\\\\"selectedColumn\\\\\\\\\\\\\\\": \\\\\\\\\\\\\\\"Fare\\\\\\\\\\\\\\\"}}, \\\\\\\\\\\\\\\"typeProperty\\\\\\\\\\\\\\\": 3}, {\\\\\\\\\\\\\\\"column\\\\\\\\\\\\\\\": {\\\\\\\\\\\\\\\"type\\\\\\\\\\\\\\\": 2, \\\\\\\\\\\\\\\"details\\\\\\\\\\\\\\\": {\\\\\\\\\\\\\\\"selectedColumn\\\\\\\\\\\\\\\": \\\\\\\\\\\\\\\"Embarked\\\\\\\\\\\\\\\"}}, \\\\\\\\\\\\\\\"typeProperty\\\\\\\\\\\\\\\": 2}, {\\\\\\\\\\\\\\\"column\\\\\\\\\\\\\\\": {\\\\\\\\\\\\\\\"type\\\\\\\\\\\\\\\": 2, \\\\\\\\\\\\\\\"details\\\\\\\\\\\\\\\": {\\\\\\\\\\\\\\\"selectedColumn\\\\\\\\\\\\\\\": \\\\\\\\\\\\\\\"Survived\\\\\\\\\\\\\\\"}}, \\\\\\\\\\\\\\\"typeProperty\\\\\\\\\\\\\\\": 2}]}, \\\\\\\\\\\\\\\"localData\\\\\\\\\\\\\\\": {}, \\\\\\\\\\\\\\\"isEnabled\\\\\\\\\\\\\\\": true, \\\\\\\\\\\\\\\"name\\\\\\\\\\\\\\\": null, \\\\\\\\\\\\\\\"annotation\\\\\\\\\\\\\\\": null}], \\\\\\\\\\\\\\\"inspectors\\\\\\\\\\\\\\\": [], \\\\\\\\\\\\\\\"meta\\\\\\\\\\\\\\\": {\\\\\\\\\\\\\\\"savedDatasetId\\\\\\\\\\\\\\\": \\\\\\\\\\\\\\\"6a54aa7c-d176-4b31-ae2e-7e7a6dcb9776\\\\\\\\\\\\\\\", \\\\\\\\\\\\\\\"datasetType\\\\\\\\\\\\\\\": \\\\\\\\\\\\\\\"tabular\\\\\\\\\\\\\\\", \\\\\\\\\\\\\\\"subscriptionId\\\\\\\\\\\\\\\": \\\\\\\\\\\\\\\"6b4af8be-9931-443e-90f6-c4c34a1f9737\\\\\\\\\\\\\\\", \\\\\\\\\\\\\\\"workspaceId\\\\\\\\\\\\\\\": \\\\\\\\\\\\\\\"c9684019-0001-448c-8679-6d9e25448a32\\\\\\\\\\\\\\\", \\\\\\\\\\\\\\\"workspaceLocation\\\\\\\\\\\\\\\": \\\\\\\\\\\\\\\"southcentralus\\\\\\\\\\\\\\\"}}\\\\\\\", \\\\\\\"activities\\\\\\\": 0}\", \"EnableSubsampling\": null, \"runTemplate\": \"AutoML\", \"azureml.runsource\": \"automl\", \"display_task_type\": \"classification\", \"dependencies_versions\": \"{\\\"azureml-widgets\\\": \\\"1.19.0\\\", \\\"azureml-train\\\": \\\"1.19.0\\\", \\\"azureml-train-restclients-hyperdrive\\\": \\\"1.19.0\\\", \\\"azureml-train-core\\\": \\\"1.19.0\\\", \\\"azureml-train-automl\\\": \\\"1.19.0\\\", \\\"azureml-train-automl-runtime\\\": \\\"1.19.0\\\", \\\"azureml-train-automl-client\\\": \\\"1.19.0\\\", \\\"azureml-tensorboard\\\": \\\"1.19.0\\\", \\\"azureml-telemetry\\\": \\\"1.19.0\\\", \\\"azureml-sdk\\\": \\\"1.19.0\\\", \\\"azureml-samples\\\": \\\"0+unknown\\\", \\\"azureml-pipeline\\\": \\\"1.19.0\\\", \\\"azureml-pipeline-steps\\\": \\\"1.19.0\\\", \\\"azureml-pipeline-core\\\": \\\"1.19.0\\\", \\\"azureml-opendatasets\\\": \\\"1.19.0\\\", \\\"azureml-model-management-sdk\\\": \\\"1.0.1b6.post1\\\", \\\"azureml-mlflow\\\": \\\"1.19.0\\\", \\\"azureml-interpret\\\": \\\"1.19.0\\\", \\\"azureml-explain-model\\\": \\\"1.19.0\\\", \\\"azureml-defaults\\\": \\\"1.19.0\\\", \\\"azureml-dataset-runtime\\\": \\\"1.19.0\\\", \\\"azureml-dataprep\\\": \\\"2.6.1\\\", \\\"azureml-dataprep-rslex\\\": \\\"1.4.0\\\", \\\"azureml-dataprep-native\\\": \\\"26.0.0\\\", \\\"azureml-datadrift\\\": \\\"1.19.0\\\", \\\"azureml-core\\\": \\\"1.19.0\\\", \\\"azureml-contrib-services\\\": \\\"1.19.0\\\", \\\"azureml-contrib-server\\\": \\\"1.19.0\\\", \\\"azureml-contrib-reinforcementlearning\\\": \\\"1.19.0\\\", \\\"azureml-contrib-pipeline-steps\\\": \\\"1.19.0\\\", \\\"azureml-contrib-notebook\\\": \\\"1.19.0\\\", \\\"azureml-contrib-interpret\\\": \\\"1.19.0\\\", \\\"azureml-contrib-gbdt\\\": \\\"1.19.0\\\", \\\"azureml-contrib-fairness\\\": \\\"1.19.0\\\", \\\"azureml-contrib-dataset\\\": \\\"1.19.0\\\", \\\"azureml-cli-common\\\": \\\"1.19.0\\\", \\\"azureml-automl-runtime\\\": \\\"1.19.0\\\", \\\"azureml-automl-core\\\": \\\"1.19.0\\\", \\\"azureml-accel-models\\\": \\\"1.19.0\\\"}\", \"_aml_system_scenario_identification\": \"Remote.Parent\", \"ClientType\": \"SDK\", \"environment_cpu_name\": \"AzureML-AutoML\", \"environment_cpu_label\": \"prod\", \"environment_gpu_name\": \"AzureML-AutoML-GPU\", \"environment_gpu_label\": \"prod\", \"root_attribution\": \"automl\", \"attribution\": \"AutoML\", \"Orchestrator\": \"AutoML\", \"CancelUri\": \"https://southcentralus.experiments.azureml.net/jasmine/v1.0/subscriptions/6b4af8be-9931-443e-90f6-c4c34a1f9737/resourceGroups/aml-quickstarts-132278/providers/Microsoft.MachineLearningServices/workspaces/quick-starts-ws-132278/experimentids/2675da15-0258-4f86-b138-b795467a32a9/cancel/AutoML_16f5e833-a184-4cd4-94d6-114ed3982447\", \"ClientSdkVersion\": \"1.19.0\", \"snapshotId\": \"00000000-0000-0000-0000-000000000000\", \"SetupRunId\": \"AutoML_16f5e833-a184-4cd4-94d6-114ed3982447_setup\", \"SetupRunContainerId\": \"dcid.AutoML_16f5e833-a184-4cd4-94d6-114ed3982447_setup\", \"FeaturizationRunJsonPath\": \"featurizer_container.json\", \"FeaturizationRunId\": \"AutoML_16f5e833-a184-4cd4-94d6-114ed3982447_featurize\", \"ProblemInfoJsonString\": \"{\\\"dataset_num_categorical\\\": 0, \\\"is_sparse\\\": false, \\\"subsampling\\\": false, \\\"dataset_classes\\\": 2, \\\"dataset_features\\\": 6, \\\"dataset_samples\\\": 891, \\\"single_frequency_class_detected\\\": false}\", \"ModelExplainRunId\": \"AutoML_16f5e833-a184-4cd4-94d6-114ed3982447_ModelExplain\"}, \"tags\": {\"model_explain_run\": \"best_run\", \"_aml_system_azureml.automlComponent\": \"AutoML\", \"pipeline_id\": \"\", \"score\": \"\", \"predicted_cost\": \"\", \"fit_time\": \"\", \"training_percent\": \"\", \"iteration\": \"\", \"run_preprocessor\": \"\", \"run_algorithm\": \"\", \"dynamic_whitelisting_iterations\": \"<25>;<30>;<35>;\", \"automl_best_child_run_id\": \"AutoML_16f5e833-a184-4cd4-94d6-114ed3982447_36\", \"model_explain_best_run_child_id\": \"AutoML_16f5e833-a184-4cd4-94d6-114ed3982447_36\"}, \"end_time_utc\": \"2020-12-29T08:34:40.472049Z\", \"status\": \"Completed\", \"log_files\": {}, \"log_groups\": [], \"run_duration\": \"0:24:09\"}, \"child_runs\": [{\"run_id\": \"AutoML_16f5e833-a184-4cd4-94d6-114ed3982447_0\", \"run_number\": 5, \"metric\": null, \"status\": \"Completed\", \"run_type\": \"azureml.scriptrun\", \"training_percent\": \"100\", \"start_time\": \"2020-12-29T08:19:20.085114Z\", \"end_time\": \"2020-12-29T08:20:10.859826Z\", \"created_time\": \"2020-12-29T08:19:08.035888Z\", \"created_time_dt\": \"2020-12-29T08:19:08.035888Z\", \"duration\": \"0:01:02\", \"iteration\": \"0\", \"goal\": \"accuracy_max\", \"run_name\": \"MaxAbsScaler, LightGBM\", \"run_properties\": \"copy=True\", \"primary_metric\": 0.69470215, \"best_metric\": 0.69470215}, {\"run_id\": \"AutoML_16f5e833-a184-4cd4-94d6-114ed3982447_3\", \"run_number\": 6, \"metric\": null, \"status\": \"Completed\", \"run_type\": \"azureml.scriptrun\", \"training_percent\": \"100\", \"start_time\": \"2020-12-29T08:21:57.299065Z\", \"end_time\": \"2020-12-29T08:25:31.846703Z\", \"created_time\": \"2020-12-29T08:19:08.163783Z\", \"created_time_dt\": \"2020-12-29T08:19:08.163783Z\", \"duration\": \"0:06:23\", \"iteration\": \"3\", \"goal\": \"accuracy_max\", \"run_name\": \"MinMaxScaler, RandomForest\", \"run_properties\": \"copy=True, feature_range=(0, 1\", \"primary_metric\": 0.705913, \"best_metric\": 0.72384659}, {\"run_id\": \"AutoML_16f5e833-a184-4cd4-94d6-114ed3982447_1\", \"run_number\": 7, \"metric\": null, \"status\": \"Completed\", \"run_type\": \"azureml.scriptrun\", \"training_percent\": \"100\", \"start_time\": \"2020-12-29T08:21:26.495944Z\", \"end_time\": \"2020-12-29T08:22:21.295522Z\", \"created_time\": \"2020-12-29T08:19:08.174981Z\", \"created_time_dt\": \"2020-12-29T08:19:08.174981Z\", \"duration\": \"0:03:13\", \"iteration\": \"1\", \"goal\": \"accuracy_max\", \"run_name\": \"MaxAbsScaler, XGBoostClassifier\", \"run_properties\": \"copy=True\", \"primary_metric\": 0.71378445, \"best_metric\": 0.71378445}, {\"run_id\": \"AutoML_16f5e833-a184-4cd4-94d6-114ed3982447_2\", \"run_number\": 8, \"metric\": null, \"status\": \"Completed\", \"run_type\": \"azureml.scriptrun\", \"training_percent\": \"100\", \"start_time\": \"2020-12-29T08:20:13.761683Z\", \"end_time\": \"2020-12-29T08:21:12.273898Z\", \"created_time\": \"2020-12-29T08:19:08.208109Z\", \"created_time_dt\": \"2020-12-29T08:19:08.208109Z\", \"duration\": \"0:02:04\", \"iteration\": \"2\", \"goal\": \"accuracy_max\", \"run_name\": \"MinMaxScaler, RandomForest\", \"run_properties\": \"copy=True, feature_range=(0, 1\", \"primary_metric\": 0.72384659, \"best_metric\": 0.72384659}, {\"run_id\": \"AutoML_16f5e833-a184-4cd4-94d6-114ed3982447_4\", \"run_number\": 9, \"metric\": null, \"status\": \"Completed\", \"run_type\": \"azureml.scriptrun\", \"training_percent\": \"100\", \"start_time\": \"2020-12-29T08:21:57.869303Z\", \"end_time\": \"2020-12-29T08:25:26.970221Z\", \"created_time\": \"2020-12-29T08:20:13.124541Z\", \"created_time_dt\": \"2020-12-29T08:20:13.124541Z\", \"duration\": \"0:05:13\", \"iteration\": \"4\", \"goal\": \"accuracy_max\", \"run_name\": \"MinMaxScaler, RandomForest\", \"run_properties\": \"copy=True, feature_range=(0, 1\", \"primary_metric\": 0.70031385, \"best_metric\": 0.72384659}, {\"run_id\": \"AutoML_16f5e833-a184-4cd4-94d6-114ed3982447_5\", \"run_number\": 10, \"metric\": null, \"status\": \"Completed\", \"run_type\": \"azureml.scriptrun\", \"training_percent\": \"100\", \"start_time\": \"2020-12-29T08:21:58.323676Z\", \"end_time\": \"2020-12-29T08:25:30.301202Z\", \"created_time\": \"2020-12-29T08:21:16.467166Z\", \"created_time_dt\": \"2020-12-29T08:21:16.467166Z\", \"duration\": \"0:04:13\", \"iteration\": \"5\", \"goal\": \"accuracy_max\", \"run_name\": \"StandardScalerWrapper, XGBoostClassifier\", \"run_properties\": \"<azureml.automl.runtime.shared.model_wrappers.StandardScalerWrapper object at 0x7f99f051ca58\", \"primary_metric\": 0.713797, \"best_metric\": 0.72384659}, {\"run_id\": \"AutoML_16f5e833-a184-4cd4-94d6-114ed3982447_6\", \"run_number\": 11, \"metric\": null, \"status\": \"Completed\", \"run_type\": \"azureml.scriptrun\", \"training_percent\": \"100\", \"start_time\": \"2020-12-29T08:22:38.947783Z\", \"end_time\": \"2020-12-29T08:23:41.317466Z\", \"created_time\": \"2020-12-29T08:22:26.141101Z\", \"created_time_dt\": \"2020-12-29T08:22:26.141101Z\", \"duration\": \"0:01:15\", \"iteration\": \"6\", \"goal\": \"accuracy_max\", \"run_name\": \"MinMaxScaler, LightGBM\", \"run_properties\": \"copy=True, feature_range=(0, 1\", \"primary_metric\": 0.71378445, \"best_metric\": 0.72384659}, {\"run_id\": \"AutoML_16f5e833-a184-4cd4-94d6-114ed3982447_7\", \"run_number\": 12, \"metric\": null, \"status\": \"Completed\", \"run_type\": \"azureml.scriptrun\", \"training_percent\": \"100\", \"start_time\": \"2020-12-29T08:23:54.37474Z\", \"end_time\": \"2020-12-29T08:24:46.046589Z\", \"created_time\": \"2020-12-29T08:23:43.786674Z\", \"created_time_dt\": \"2020-12-29T08:23:43.786674Z\", \"duration\": \"0:01:02\", \"iteration\": \"7\", \"goal\": \"accuracy_max\", \"run_name\": \"SparseNormalizer, XGBoostClassifier\", \"run_properties\": \"<azureml.automl.runtime.shared.model_wrappers.SparseNormalizer object at 0x7f83bd0bb7f0\", \"primary_metric\": 0.70703032, \"best_metric\": 0.72384659}, {\"run_id\": \"AutoML_16f5e833-a184-4cd4-94d6-114ed3982447_8\", \"run_number\": 13, \"metric\": null, \"status\": \"Completed\", \"run_type\": \"azureml.scriptrun\", \"training_percent\": \"100\", \"start_time\": \"2020-12-29T08:25:16.174644Z\", \"end_time\": \"2020-12-29T08:26:00.765579Z\", \"created_time\": \"2020-12-29T08:24:48.514156Z\", \"created_time_dt\": \"2020-12-29T08:24:48.514156Z\", \"duration\": \"0:01:12\", \"iteration\": \"8\", \"goal\": \"accuracy_max\", \"run_name\": \"StandardScalerWrapper, LightGBM\", \"run_properties\": \"<azureml.automl.runtime.shared.model_wrappers.StandardScalerWrapper object at 0x7f48fc65a668\", \"primary_metric\": 0.70030758, \"best_metric\": 0.72384659}, {\"run_id\": \"AutoML_16f5e833-a184-4cd4-94d6-114ed3982447_9\", \"run_number\": 14, \"metric\": null, \"status\": \"Completed\", \"run_type\": \"azureml.scriptrun\", \"training_percent\": \"100\", \"start_time\": \"2020-12-29T08:25:41.635318Z\", \"end_time\": \"2020-12-29T08:26:39.314555Z\", \"created_time\": \"2020-12-29T08:25:29.479153Z\", \"created_time_dt\": \"2020-12-29T08:25:29.479153Z\", \"duration\": \"0:01:09\", \"iteration\": \"9\", \"goal\": \"accuracy_max\", \"run_name\": \"RobustScaler, SVM\", \"run_properties\": \"copy=True, quantile_range=[10, 90], with_centering=True,\\n             with_scaling=True\", \"primary_metric\": 0.70033268, \"best_metric\": 0.72384659}, {\"run_id\": \"AutoML_16f5e833-a184-4cd4-94d6-114ed3982447_10\", \"run_number\": 15, \"metric\": null, \"status\": \"Completed\", \"run_type\": \"azureml.scriptrun\", \"training_percent\": \"100\", \"start_time\": \"2020-12-29T08:25:45.044452Z\", \"end_time\": \"2020-12-29T08:26:34.345154Z\", \"created_time\": \"2020-12-29T08:25:33.154174Z\", \"created_time_dt\": \"2020-12-29T08:25:33.154174Z\", \"duration\": \"0:01:01\", \"iteration\": \"10\", \"goal\": \"accuracy_max\", \"run_name\": \"StandardScalerWrapper, RandomForest\", \"run_properties\": \"<azureml.automl.runtime.shared.model_wrappers.StandardScalerWrapper object at 0x7f2874d86a20\", \"primary_metric\": 0.72611261, \"best_metric\": 0.72611261}, {\"run_id\": \"AutoML_16f5e833-a184-4cd4-94d6-114ed3982447_11\", \"run_number\": 16, \"metric\": null, \"status\": \"Completed\", \"run_type\": \"azureml.scriptrun\", \"training_percent\": \"100\", \"start_time\": \"2020-12-29T08:25:48.572374Z\", \"end_time\": \"2020-12-29T08:26:37.156249Z\", \"created_time\": \"2020-12-29T08:25:36.684166Z\", \"created_time_dt\": \"2020-12-29T08:25:36.684166Z\", \"duration\": \"0:01:00\", \"iteration\": \"11\", \"goal\": \"accuracy_max\", \"run_name\": \"StandardScalerWrapper, LightGBM\", \"run_properties\": \"<azureml.automl.runtime.shared.model_wrappers.StandardScalerWrapper object at 0x7f404d2a46d8\", \"primary_metric\": 0.71601281, \"best_metric\": 0.72611261}, {\"run_id\": \"AutoML_16f5e833-a184-4cd4-94d6-114ed3982447_12\", \"run_number\": 17, \"metric\": null, \"status\": \"Completed\", \"run_type\": \"azureml.scriptrun\", \"training_percent\": \"100\", \"start_time\": \"2020-12-29T08:26:14.661475Z\", \"end_time\": \"2020-12-29T08:27:13.104626Z\", \"created_time\": \"2020-12-29T08:26:02.592526Z\", \"created_time_dt\": \"2020-12-29T08:26:02.592526Z\", \"duration\": \"0:01:10\", \"iteration\": \"12\", \"goal\": \"accuracy_max\", \"run_name\": \"SparseNormalizer, XGBoostClassifier\", \"run_properties\": \"<azureml.automl.runtime.shared.model_wrappers.SparseNormalizer object at 0x7f7c4cd68978\", \"primary_metric\": 0.6868872, \"best_metric\": 0.72611261}, {\"run_id\": \"AutoML_16f5e833-a184-4cd4-94d6-114ed3982447_13\", \"run_number\": 18, \"metric\": null, \"status\": \"Completed\", \"run_type\": \"azureml.scriptrun\", \"training_percent\": \"100\", \"start_time\": \"2020-12-29T08:26:47.314176Z\", \"end_time\": \"2020-12-29T08:27:34.96248Z\", \"created_time\": \"2020-12-29T08:26:37.025299Z\", \"created_time_dt\": \"2020-12-29T08:26:37.025299Z\", \"duration\": \"0:00:57\", \"iteration\": \"13\", \"goal\": \"accuracy_max\", \"run_name\": \"SparseNormalizer, XGBoostClassifier\", \"run_properties\": \"<azureml.automl.runtime.shared.model_wrappers.SparseNormalizer object at 0x7f1a1c2d0470\", \"primary_metric\": 0.70816647, \"best_metric\": 0.72611261}, {\"run_id\": \"AutoML_16f5e833-a184-4cd4-94d6-114ed3982447_14\", \"run_number\": 19, \"metric\": null, \"status\": \"Completed\", \"run_type\": \"azureml.scriptrun\", \"training_percent\": \"100\", \"start_time\": \"2020-12-29T08:26:51.15734Z\", \"end_time\": \"2020-12-29T08:27:40.45346Z\", \"created_time\": \"2020-12-29T08:26:40.171725Z\", \"created_time_dt\": \"2020-12-29T08:26:40.171725Z\", \"duration\": \"0:01:00\", \"iteration\": \"14\", \"goal\": \"accuracy_max\", \"run_name\": \"SparseNormalizer, XGBoostClassifier\", \"run_properties\": \"<azureml.automl.runtime.shared.model_wrappers.SparseNormalizer object at 0x7f7967064be0\", \"primary_metric\": 0.69919026, \"best_metric\": 0.72611261}, {\"run_id\": \"AutoML_16f5e833-a184-4cd4-94d6-114ed3982447_15\", \"run_number\": 20, \"metric\": null, \"status\": \"Completed\", \"run_type\": \"azureml.scriptrun\", \"training_percent\": \"100\", \"start_time\": \"2020-12-29T08:26:53.966408Z\", \"end_time\": \"2020-12-29T08:27:41.721566Z\", \"created_time\": \"2020-12-29T08:26:43.375206Z\", \"created_time_dt\": \"2020-12-29T08:26:43.375206Z\", \"duration\": \"0:00:58\", \"iteration\": \"15\", \"goal\": \"accuracy_max\", \"run_name\": \"StandardScalerWrapper, LogisticRegression\", \"run_properties\": \"<azureml.automl.runtime.shared.model_wrappers.StandardScalerWrapper object at 0x7f8b24fe7048\", \"primary_metric\": 0.71490176, \"best_metric\": 0.72611261}, {\"run_id\": \"AutoML_16f5e833-a184-4cd4-94d6-114ed3982447_16\", \"run_number\": 21, \"metric\": null, \"status\": \"Completed\", \"run_type\": \"azureml.scriptrun\", \"training_percent\": \"100\", \"start_time\": \"2020-12-29T08:27:25.414484Z\", \"end_time\": \"2020-12-29T08:28:27.897748Z\", \"created_time\": \"2020-12-29T08:27:14.912601Z\", \"created_time_dt\": \"2020-12-29T08:27:14.912601Z\", \"duration\": \"0:01:12\", \"iteration\": \"16\", \"goal\": \"accuracy_max\", \"run_name\": \"StandardScalerWrapper, LightGBM\", \"run_properties\": \"<azureml.automl.runtime.shared.model_wrappers.StandardScalerWrapper object at 0x7fadeca8ae80\", \"primary_metric\": 0.7171364, \"best_metric\": 0.72611261}, {\"run_id\": \"AutoML_16f5e833-a184-4cd4-94d6-114ed3982447_17\", \"run_number\": 22, \"metric\": null, \"status\": \"Completed\", \"run_type\": \"azureml.scriptrun\", \"training_percent\": \"100\", \"start_time\": \"2020-12-29T08:27:48.281348Z\", \"end_time\": \"2020-12-29T08:28:37.384507Z\", \"created_time\": \"2020-12-29T08:27:36.788704Z\", \"created_time_dt\": \"2020-12-29T08:27:36.788704Z\", \"duration\": \"0:01:00\", \"iteration\": \"17\", \"goal\": \"accuracy_max\", \"run_name\": \"StandardScalerWrapper, LightGBM\", \"run_properties\": \"<azureml.automl.runtime.shared.model_wrappers.StandardScalerWrapper object at 0x7f1618b6fe48\", \"primary_metric\": 0.72162451, \"best_metric\": 0.72611261}, {\"run_id\": \"AutoML_16f5e833-a184-4cd4-94d6-114ed3982447_18\", \"run_number\": 23, \"metric\": null, \"status\": \"Completed\", \"run_type\": \"azureml.scriptrun\", \"training_percent\": \"100\", \"start_time\": \"2020-12-29T08:27:51.96204Z\", \"end_time\": \"2020-12-29T08:28:48.779096Z\", \"created_time\": \"2020-12-29T08:27:42.061706Z\", \"created_time_dt\": \"2020-12-29T08:27:42.061706Z\", \"duration\": \"0:01:06\", \"iteration\": \"18\", \"goal\": \"accuracy_max\", \"run_name\": \"StandardScalerWrapper, LightGBM\", \"run_properties\": \"<azureml.automl.runtime.shared.model_wrappers.StandardScalerWrapper object at 0x7fad33cfddd8\", \"primary_metric\": 0.72611889, \"best_metric\": 0.72611889}, {\"run_id\": \"AutoML_16f5e833-a184-4cd4-94d6-114ed3982447_19\", \"run_number\": 24, \"metric\": null, \"status\": \"Completed\", \"run_type\": \"azureml.scriptrun\", \"training_percent\": \"100\", \"start_time\": \"2020-12-29T08:27:57.507908Z\", \"end_time\": \"2020-12-29T08:28:46.272504Z\", \"created_time\": \"2020-12-29T08:27:45.164699Z\", \"created_time_dt\": \"2020-12-29T08:27:45.164699Z\", \"duration\": \"0:01:01\", \"iteration\": \"19\", \"goal\": \"accuracy_max\", \"run_name\": \"StandardScalerWrapper, LightGBM\", \"run_properties\": \"<azureml.automl.runtime.shared.model_wrappers.StandardScalerWrapper object at 0x7f47c865d748\", \"primary_metric\": 0.71601281, \"best_metric\": 0.72611889}, {\"run_id\": \"AutoML_16f5e833-a184-4cd4-94d6-114ed3982447_20\", \"run_number\": 25, \"metric\": null, \"status\": \"Completed\", \"run_type\": \"azureml.scriptrun\", \"training_percent\": \"100\", \"start_time\": \"2020-12-29T08:28:42.811359Z\", \"end_time\": \"2020-12-29T08:29:53.223142Z\", \"created_time\": \"2020-12-29T08:28:29.684836Z\", \"created_time_dt\": \"2020-12-29T08:28:29.684836Z\", \"duration\": \"0:01:23\", \"iteration\": \"20\", \"goal\": \"accuracy_max\", \"run_name\": \"StandardScalerWrapper, LightGBM\", \"run_properties\": \"<azureml.automl.runtime.shared.model_wrappers.StandardScalerWrapper object at 0x7f48a9413358\", \"primary_metric\": 0.71377189, \"best_metric\": 0.72611889}, {\"run_id\": \"AutoML_16f5e833-a184-4cd4-94d6-114ed3982447_21\", \"run_number\": 26, \"metric\": null, \"status\": \"Completed\", \"run_type\": \"azureml.scriptrun\", \"training_percent\": \"100\", \"start_time\": \"2020-12-29T08:28:49.500615Z\", \"end_time\": \"2020-12-29T08:29:40.35362Z\", \"created_time\": \"2020-12-29T08:28:39.057866Z\", \"created_time_dt\": \"2020-12-29T08:28:39.057866Z\", \"duration\": \"0:01:01\", \"iteration\": \"21\", \"goal\": \"accuracy_max\", \"run_name\": \"StandardScalerWrapper, LogisticRegression\", \"run_properties\": \"<azureml.automl.runtime.shared.model_wrappers.StandardScalerWrapper object at 0x7fd3b5545588\", \"primary_metric\": 0.71377817, \"best_metric\": 0.72611889}, {\"run_id\": \"AutoML_16f5e833-a184-4cd4-94d6-114ed3982447_22\", \"run_number\": 27, \"metric\": null, \"status\": \"Completed\", \"run_type\": \"azureml.scriptrun\", \"training_percent\": \"100\", \"start_time\": \"2020-12-29T08:28:59.521517Z\", \"end_time\": \"2020-12-29T08:29:50.037499Z\", \"created_time\": \"2020-12-29T08:28:47.946856Z\", \"created_time_dt\": \"2020-12-29T08:28:47.946856Z\", \"duration\": \"0:01:02\", \"iteration\": \"22\", \"goal\": \"accuracy_max\", \"run_name\": \"SparseNormalizer, LightGBM\", \"run_properties\": \"<azureml.automl.runtime.shared.model_wrappers.SparseNormalizer object at 0x7faad80a0160\", \"primary_metric\": 0.6823426, \"best_metric\": 0.72611889}, {\"run_id\": \"AutoML_16f5e833-a184-4cd4-94d6-114ed3982447_23\", \"run_number\": 28, \"metric\": null, \"status\": \"Completed\", \"run_type\": \"azureml.scriptrun\", \"training_percent\": \"100\", \"start_time\": \"2020-12-29T08:29:02.876349Z\", \"end_time\": \"2020-12-29T08:29:50.768053Z\", \"created_time\": \"2020-12-29T08:28:52.401753Z\", \"created_time_dt\": \"2020-12-29T08:28:52.401753Z\", \"duration\": \"0:00:58\", \"iteration\": \"23\", \"goal\": \"accuracy_max\", \"run_name\": \"SparseNormalizer, XGBoostClassifier\", \"run_properties\": \"<azureml.automl.runtime.shared.model_wrappers.SparseNormalizer object at 0x7f0be443bbe0\", \"primary_metric\": 0.70032641, \"best_metric\": 0.72611889}, {\"run_id\": \"AutoML_16f5e833-a184-4cd4-94d6-114ed3982447_24\", \"run_number\": 29, \"metric\": null, \"status\": \"Completed\", \"run_type\": \"azureml.scriptrun\", \"training_percent\": \"100\", \"start_time\": \"2020-12-29T08:29:53.577257Z\", \"end_time\": \"2020-12-29T08:30:43.997285Z\", \"created_time\": \"2020-12-29T08:29:42.421129Z\", \"created_time_dt\": \"2020-12-29T08:29:42.421129Z\", \"duration\": \"0:01:01\", \"iteration\": \"24\", \"goal\": \"accuracy_max\", \"run_name\": \"MaxAbsScaler, LightGBM\", \"run_properties\": \"copy=True\", \"primary_metric\": 0.71825372, \"best_metric\": 0.72611889}, {\"run_id\": \"AutoML_16f5e833-a184-4cd4-94d6-114ed3982447_25\", \"run_number\": 30, \"metric\": null, \"status\": \"Completed\", \"run_type\": \"azureml.scriptrun\", \"training_percent\": \"100\", \"start_time\": \"2020-12-29T08:30:02.761742Z\", \"end_time\": \"2020-12-29T08:30:59.648557Z\", \"created_time\": \"2020-12-29T08:29:52.72801Z\", \"created_time_dt\": \"2020-12-29T08:29:52.72801Z\", \"duration\": \"0:01:06\", \"iteration\": \"25\", \"goal\": \"accuracy_max\", \"run_name\": \"SparseNormalizer, LightGBM\", \"run_properties\": \"<azureml.automl.runtime.shared.model_wrappers.SparseNormalizer object at 0x7f968e92f4a8\", \"primary_metric\": 0.64981483, \"best_metric\": 0.72611889}, {\"run_id\": \"AutoML_16f5e833-a184-4cd4-94d6-114ed3982447_26\", \"run_number\": 31, \"metric\": null, \"status\": \"Completed\", \"run_type\": \"azureml.scriptrun\", \"training_percent\": \"100\", \"start_time\": \"2020-12-29T08:30:06.139179Z\", \"end_time\": \"2020-12-29T08:30:48.611928Z\", \"created_time\": \"2020-12-29T08:29:55.823803Z\", \"created_time_dt\": \"2020-12-29T08:29:55.823803Z\", \"duration\": \"0:00:52\", \"iteration\": \"26\", \"goal\": \"accuracy_max\", \"run_name\": \"MaxAbsScaler, LightGBM\", \"run_properties\": \"copy=True\", \"primary_metric\": 0.71489549, \"best_metric\": 0.72611889}, {\"run_id\": \"AutoML_16f5e833-a184-4cd4-94d6-114ed3982447_27\", \"run_number\": 32, \"metric\": null, \"status\": \"Completed\", \"run_type\": \"azureml.scriptrun\", \"training_percent\": \"100\", \"start_time\": \"2020-12-29T08:30:08.578097Z\", \"end_time\": \"2020-12-29T08:30:50.89817Z\", \"created_time\": \"2020-12-29T08:29:55.895724Z\", \"created_time_dt\": \"2020-12-29T08:29:55.895724Z\", \"duration\": \"0:00:55\", \"iteration\": \"27\", \"goal\": \"accuracy_max\", \"run_name\": \"SparseNormalizer, LightGBM\", \"run_properties\": \"<azureml.automl.runtime.shared.model_wrappers.SparseNormalizer object at 0x7fd27c34ebe0\", \"primary_metric\": 0.69582575, \"best_metric\": 0.72611889}, {\"run_id\": \"AutoML_16f5e833-a184-4cd4-94d6-114ed3982447_28\", \"run_number\": 33, \"metric\": null, \"status\": \"Completed\", \"run_type\": \"azureml.scriptrun\", \"training_percent\": \"100\", \"start_time\": \"2020-12-29T08:30:58.000938Z\", \"end_time\": \"2020-12-29T08:31:46.745478Z\", \"created_time\": \"2020-12-29T08:30:45.577144Z\", \"created_time_dt\": \"2020-12-29T08:30:45.577144Z\", \"duration\": \"0:01:01\", \"iteration\": \"28\", \"goal\": \"accuracy_max\", \"run_name\": \"StandardScalerWrapper, LightGBM\", \"run_properties\": \"<azureml.automl.runtime.shared.model_wrappers.StandardScalerWrapper object at 0x7f3fd4f250b8\", \"primary_metric\": 0.72273555, \"best_metric\": 0.72611889}, {\"run_id\": \"AutoML_16f5e833-a184-4cd4-94d6-114ed3982447_29\", \"run_number\": 34, \"metric\": null, \"status\": \"Completed\", \"run_type\": \"azureml.scriptrun\", \"training_percent\": \"100\", \"start_time\": \"2020-12-29T08:31:02.950701Z\", \"end_time\": \"2020-12-29T08:32:02.978321Z\", \"created_time\": \"2020-12-29T08:30:50.414329Z\", \"created_time_dt\": \"2020-12-29T08:30:50.414329Z\", \"duration\": \"0:01:12\", \"iteration\": \"29\", \"goal\": \"accuracy_max\", \"run_name\": \"StandardScalerWrapper, LightGBM\", \"run_properties\": \"<azureml.automl.runtime.shared.model_wrappers.StandardScalerWrapper object at 0x7feb8a500dd8\", \"primary_metric\": 0.72385287, \"best_metric\": 0.72611889}, {\"run_id\": \"AutoML_16f5e833-a184-4cd4-94d6-114ed3982447_30\", \"run_number\": 35, \"metric\": null, \"status\": \"Completed\", \"run_type\": \"azureml.scriptrun\", \"training_percent\": \"100\", \"start_time\": \"2020-12-29T08:31:06.367367Z\", \"end_time\": \"2020-12-29T08:32:07.165407Z\", \"created_time\": \"2020-12-29T08:30:55.171795Z\", \"created_time_dt\": \"2020-12-29T08:30:55.171795Z\", \"duration\": \"0:01:11\", \"iteration\": \"30\", \"goal\": \"accuracy_max\", \"run_name\": \"SparseNormalizer, LightGBM\", \"run_properties\": \"<azureml.automl.runtime.shared.model_wrappers.SparseNormalizer object at 0x7fb6215b5f60\", \"primary_metric\": 0.61615718, \"best_metric\": 0.72611889}, {\"run_id\": \"AutoML_16f5e833-a184-4cd4-94d6-114ed3982447_31\", \"run_number\": 36, \"metric\": null, \"status\": \"Completed\", \"run_type\": \"azureml.scriptrun\", \"training_percent\": \"100\", \"start_time\": \"2020-12-29T08:31:12.134328Z\", \"end_time\": \"2020-12-29T08:32:09.498962Z\", \"created_time\": \"2020-12-29T08:31:01.168745Z\", \"created_time_dt\": \"2020-12-29T08:31:01.168745Z\", \"duration\": \"0:01:08\", \"iteration\": \"31\", \"goal\": \"accuracy_max\", \"run_name\": \"StandardScalerWrapper, LightGBM\", \"run_properties\": \"<azureml.automl.runtime.shared.model_wrappers.StandardScalerWrapper object at 0x7f1c194002e8\", \"primary_metric\": 0.70815391, \"best_metric\": 0.72611889}, {\"run_id\": \"AutoML_16f5e833-a184-4cd4-94d6-114ed3982447_32\", \"run_number\": 37, \"metric\": null, \"status\": \"Completed\", \"run_type\": \"azureml.scriptrun\", \"training_percent\": \"100\", \"start_time\": \"2020-12-29T08:32:00.226354Z\", \"end_time\": \"2020-12-29T08:32:48.099893Z\", \"created_time\": \"2020-12-29T08:31:48.61458Z\", \"created_time_dt\": \"2020-12-29T08:31:48.61458Z\", \"duration\": \"0:00:59\", \"iteration\": \"32\", \"goal\": \"accuracy_max\", \"run_name\": \"SparseNormalizer, XGBoostClassifier\", \"run_properties\": \"<azureml.automl.runtime.shared.model_wrappers.SparseNormalizer object at 0x7f1acce11f28\", \"primary_metric\": 0.72051974, \"best_metric\": 0.72611889}, {\"run_id\": \"AutoML_16f5e833-a184-4cd4-94d6-114ed3982447_33\", \"run_number\": 38, \"metric\": null, \"status\": \"Canceled\", \"run_type\": \"azureml.scriptrun\", \"training_percent\": \"100\", \"start_time\": \"2020-12-29T08:32:16.367763Z\", \"end_time\": \"2020-12-29T08:32:55.245964Z\", \"created_time\": \"2020-12-29T08:32:05.162364Z\", \"created_time_dt\": \"2020-12-29T08:32:05.162364Z\", \"duration\": \"0:00:50\", \"iteration\": \"33\", \"goal\": \"accuracy_max\", \"run_name\": \"RobustScaler, LightGBM\", \"run_properties\": \"copy=True, quantile_range=[10, 90], with_centering=False,\\n             with_scaling=False\", \"primary_metric\": 0.70817902, \"best_metric\": 0.72611889}, {\"run_id\": \"AutoML_16f5e833-a184-4cd4-94d6-114ed3982447_34\", \"run_number\": 39, \"metric\": null, \"status\": \"Canceled\", \"run_type\": \"azureml.scriptrun\", \"training_percent\": \"100\", \"start_time\": \"2020-12-29T08:32:20.05185Z\", \"end_time\": \"2020-12-29T08:32:55.02302Z\", \"created_time\": \"2020-12-29T08:32:08.813156Z\", \"created_time_dt\": \"2020-12-29T08:32:08.813156Z\", \"duration\": \"0:00:46\", \"iteration\": \"34\", \"goal\": null, \"run_name\": \"StandardScalerWrapper, RandomForest\", \"run_properties\": null}, {\"run_id\": \"AutoML_16f5e833-a184-4cd4-94d6-114ed3982447_35\", \"run_number\": 40, \"metric\": null, \"status\": \"Canceled\", \"run_type\": \"azureml.scriptrun\", \"training_percent\": \"100\", \"start_time\": \"2020-12-29T08:32:23.140342Z\", \"end_time\": \"2020-12-29T08:32:54.405631Z\", \"created_time\": \"2020-12-29T08:32:12.617806Z\", \"created_time_dt\": \"2020-12-29T08:32:12.617806Z\", \"duration\": \"0:00:41\", \"iteration\": \"35\", \"goal\": null, \"run_name\": \"SparseNormalizer, LightGBM\", \"run_properties\": null}, {\"run_id\": \"AutoML_16f5e833-a184-4cd4-94d6-114ed3982447_36\", \"run_number\": 41, \"metric\": null, \"status\": \"Completed\", \"run_type\": \"azureml.scriptrun\", \"training_percent\": \"100\", \"start_time\": \"2020-12-29T08:33:08.620554Z\", \"end_time\": \"2020-12-29T08:34:26.027901Z\", \"created_time\": \"2020-12-29T08:32:55.99508Z\", \"created_time_dt\": \"2020-12-29T08:32:55.99508Z\", \"duration\": \"0:01:30\", \"iteration\": \"36\", \"goal\": \"accuracy_max\", \"run_name\": \"VotingEnsemble\", \"run_properties\": \"classification_labels=None,\\n                              estimators=[('18',\\n                                           Pipeline(memory=None,\\n                                                    steps=[('standardscalerwrapper',\\n                                                            <azureml.automl.runtime.shared.model_wrappers.StandardScalerWrapper object at 0x7f9ac8a43d68>\", \"primary_metric\": 0.74071308, \"best_metric\": 0.74071308}, {\"run_id\": \"AutoML_16f5e833-a184-4cd4-94d6-114ed3982447_37\", \"run_number\": 42, \"metric\": null, \"status\": \"Completed\", \"run_type\": \"azureml.scriptrun\", \"training_percent\": \"100\", \"start_time\": \"2020-12-29T08:33:07.05557Z\", \"end_time\": \"2020-12-29T08:34:32.730413Z\", \"created_time\": \"2020-12-29T08:32:56.006311Z\", \"created_time_dt\": \"2020-12-29T08:32:56.006311Z\", \"duration\": \"0:01:36\", \"iteration\": \"37\", \"goal\": \"accuracy_max\", \"run_name\": \"StackEnsemble\", \"run_properties\": \"base_learners=[('18',\\n                                        Pipeline(memory=None,\\n                                                 steps=[('standardscalerwrapper',\\n                                                         <azureml.automl.runtime.shared.model_wrappers.StandardScalerWrapper object at 0x7fae3fd4dcf8>\", \"primary_metric\": 0.73286046, \"best_metric\": 0.74071308}], \"children_metrics\": {\"categories\": [0], \"series\": {\"average_precision_score_macro\": [{\"categories\": [\"0\", \"1\", \"2\", \"3\", \"4\", \"5\", \"6\", \"7\", \"8\", \"9\", \"10\", \"11\", \"12\", \"13\", \"14\", \"15\", \"16\", \"17\", \"18\", \"19\", \"20\", \"21\", \"22\", \"23\", \"24\", \"25\", \"26\", \"27\", \"28\", \"29\", \"30\", \"31\", \"32\", \"33\", \"36\", \"37\"], \"mode\": \"markers\", \"name\": \"average_precision_score_macro\", \"stepped\": false, \"type\": \"scatter\", \"data\": [0.7343319805868941, 0.7550896408965557, 0.7510700759886397, 0.7300158920701423, 0.7444904087856286, 0.7416127379743122, 0.7310884364253288, 0.7337932759417408, 0.7066087742855582, 0.7090978658158447, 0.743191264688234, 0.7286665659109114, 0.7153606439492485, 0.7375967845446384, 0.7328940136054258, 0.7242700195629859, 0.7437195292513282, 0.7102413713535787, 0.7219666707882573, 0.7362169035444832, 0.7375261632647439, 0.7251403326830472, 0.7037417286259056, 0.7306591947842029, 0.7358041718048374, 0.6992121356992721, 0.7362810617379821, 0.7301552639017681, 0.740154049820992, 0.7270073504914372, 0.7135829463059034, 0.7254580719059339, 0.7150601760964707, 0.7366369941175255, 0.7488040970187981, 0.7487257242259935]}, {\"categories\": [\"0\", \"1\", \"2\", \"3\", \"4\", \"5\", \"6\", \"7\", \"8\", \"9\", \"10\", \"11\", \"12\", \"13\", \"14\", \"15\", \"16\", \"17\", \"18\", \"19\", \"20\", \"21\", \"22\", \"23\", \"24\", \"25\", \"26\", \"27\", \"28\", \"29\", \"30\", \"31\", \"32\", \"33\", \"36\", \"37\"], \"mode\": \"lines\", \"name\": \"average_precision_score_macro_max\", \"stepped\": true, \"type\": \"scatter\", \"data\": [0.7343319805868941, 0.7550896408965557, 0.7550896408965557, 0.7550896408965557, 0.7550896408965557, 0.7550896408965557, 0.7550896408965557, 0.7550896408965557, 0.7550896408965557, 0.7550896408965557, 0.7550896408965557, 0.7550896408965557, 0.7550896408965557, 0.7550896408965557, 0.7550896408965557, 0.7550896408965557, 0.7550896408965557, 0.7550896408965557, 0.7550896408965557, 0.7550896408965557, 0.7550896408965557, 0.7550896408965557, 0.7550896408965557, 0.7550896408965557, 0.7550896408965557, 0.7550896408965557, 0.7550896408965557, 0.7550896408965557, 0.7550896408965557, 0.7550896408965557, 0.7550896408965557, 0.7550896408965557, 0.7550896408965557, 0.7550896408965557, 0.7550896408965557, 0.7550896408965557]}], \"recall_score_weighted\": [{\"categories\": [\"0\", \"1\", \"2\", \"3\", \"4\", \"5\", \"6\", \"7\", \"8\", \"9\", \"10\", \"11\", \"12\", \"13\", \"14\", \"15\", \"16\", \"17\", \"18\", \"19\", \"20\", \"21\", \"22\", \"23\", \"24\", \"25\", \"26\", \"27\", \"28\", \"29\", \"30\", \"31\", \"32\", \"33\", \"36\", \"37\"], \"mode\": \"markers\", \"name\": \"recall_score_weighted\", \"stepped\": false, \"type\": \"scatter\", \"data\": [0.6947021530349634, 0.7137844454208776, 0.723846588412529, 0.7059129998116879, 0.7003138534931894, 0.713796999560605, 0.7137844454208775, 0.7070303182474421, 0.7003075764233256, 0.7003326847027808, 0.7261126106333562, 0.7160128052225221, 0.6868872010545478, 0.7081664678927876, 0.6991902579875713, 0.7149017638566317, 0.7171364007281401, 0.7216245056807482, 0.7261188877032202, 0.7160128052225222, 0.7137718912811499, 0.7137781683510138, 0.6823426024731655, 0.700326407632917, 0.7182537191638942, 0.6498148264390183, 0.714895486786768, 0.6958257485405813, 0.7227355470466387, 0.7238528654823928, 0.6161571778293892, 0.70815391375306, 0.7205197413847215, 0.7081790220325151, 0.7407130751365263, 0.732860460736928]}, {\"categories\": [\"0\", \"1\", \"2\", \"3\", \"4\", \"5\", \"6\", \"7\", \"8\", \"9\", \"10\", \"11\", \"12\", \"13\", \"14\", \"15\", \"16\", \"17\", \"18\", \"19\", \"20\", \"21\", \"22\", \"23\", \"24\", \"25\", \"26\", \"27\", \"28\", \"29\", \"30\", \"31\", \"32\", \"33\", \"36\", \"37\"], \"mode\": \"lines\", \"name\": \"recall_score_weighted_max\", \"stepped\": true, \"type\": \"scatter\", \"data\": [0.6947021530349634, 0.7137844454208776, 0.723846588412529, 0.723846588412529, 0.723846588412529, 0.723846588412529, 0.723846588412529, 0.723846588412529, 0.723846588412529, 0.723846588412529, 0.7261126106333562, 0.7261126106333562, 0.7261126106333562, 0.7261126106333562, 0.7261126106333562, 0.7261126106333562, 0.7261126106333562, 0.7261126106333562, 0.7261188877032202, 0.7261188877032202, 0.7261188877032202, 0.7261188877032202, 0.7261188877032202, 0.7261188877032202, 0.7261188877032202, 0.7261188877032202, 0.7261188877032202, 0.7261188877032202, 0.7261188877032202, 0.7261188877032202, 0.7261188877032202, 0.7261188877032202, 0.7261188877032202, 0.7261188877032202, 0.7407130751365263, 0.7407130751365263]}], \"average_precision_score_weighted\": [{\"categories\": [\"0\", \"1\", \"2\", \"3\", \"4\", \"5\", \"6\", \"7\", \"8\", \"9\", \"10\", \"11\", \"12\", \"13\", \"14\", \"15\", \"16\", \"17\", \"18\", \"19\", \"20\", \"21\", \"22\", \"23\", \"24\", \"25\", \"26\", \"27\", \"28\", \"29\", \"30\", \"31\", \"32\", \"33\", \"36\", \"37\"], \"mode\": \"markers\", \"name\": \"average_precision_score_weighted\", \"stepped\": false, \"type\": \"scatter\", \"data\": [0.7593050927245167, 0.7767902761736364, 0.7716905166938983, 0.7519091551473632, 0.7655639843242283, 0.7633089734559135, 0.7527776057619558, 0.7567812900826999, 0.7312266551616731, 0.7338672406494195, 0.7649645379093511, 0.7506317331171631, 0.740466399857227, 0.7571410465916623, 0.7547175967084188, 0.7465221792772889, 0.7638951220639244, 0.732192884734434, 0.7438201888210021, 0.7566219295469258, 0.7594361939473415, 0.7472835542821248, 0.7270638711664226, 0.7538160821295457, 0.7572765275333636, 0.7228385400979291, 0.756197768047278, 0.7515363950355929, 0.7605528225668483, 0.7509120925118069, 0.7353097609177214, 0.7479505884538351, 0.7360234415478523, 0.7585623173688996, 0.7701936426674527, 0.7703465173172418]}, {\"categories\": [\"0\", \"1\", \"2\", \"3\", \"4\", \"5\", \"6\", \"7\", \"8\", \"9\", \"10\", \"11\", \"12\", \"13\", \"14\", \"15\", \"16\", \"17\", \"18\", \"19\", \"20\", \"21\", \"22\", \"23\", \"24\", \"25\", \"26\", \"27\", \"28\", \"29\", \"30\", \"31\", \"32\", \"33\", \"36\", \"37\"], \"mode\": \"lines\", \"name\": \"average_precision_score_weighted_max\", \"stepped\": true, \"type\": \"scatter\", \"data\": [0.7593050927245167, 0.7767902761736364, 0.7767902761736364, 0.7767902761736364, 0.7767902761736364, 0.7767902761736364, 0.7767902761736364, 0.7767902761736364, 0.7767902761736364, 0.7767902761736364, 0.7767902761736364, 0.7767902761736364, 0.7767902761736364, 0.7767902761736364, 0.7767902761736364, 0.7767902761736364, 0.7767902761736364, 0.7767902761736364, 0.7767902761736364, 0.7767902761736364, 0.7767902761736364, 0.7767902761736364, 0.7767902761736364, 0.7767902761736364, 0.7767902761736364, 0.7767902761736364, 0.7767902761736364, 0.7767902761736364, 0.7767902761736364, 0.7767902761736364, 0.7767902761736364, 0.7767902761736364, 0.7767902761736364, 0.7767902761736364, 0.7767902761736364, 0.7767902761736364]}], \"AUC_macro\": [{\"categories\": [\"0\", \"1\", \"2\", \"3\", \"4\", \"5\", \"6\", \"7\", \"8\", \"9\", \"10\", \"11\", \"12\", \"13\", \"14\", \"15\", \"16\", \"17\", \"18\", \"19\", \"20\", \"21\", \"22\", \"23\", \"24\", \"25\", \"26\", \"27\", \"28\", \"29\", \"30\", \"31\", \"32\", \"33\", \"36\", \"37\"], \"mode\": \"markers\", \"name\": \"AUC_macro\", \"stepped\": false, \"type\": \"scatter\", \"data\": [0.7500737900446656, 0.769792591535564, 0.7645855146855426, 0.7470938271643317, 0.7582565835142775, 0.7561775554449768, 0.7512872713217748, 0.7472692626711299, 0.7371880331585626, 0.7419618349899249, 0.760307853402501, 0.7514059340301005, 0.7397622492128789, 0.7584353150183998, 0.7477002637198034, 0.7395993534279854, 0.7616178011861432, 0.7318408734445644, 0.7386300092750377, 0.7542186464545709, 0.7547407427967177, 0.740236471931013, 0.7176734256907611, 0.7495342830861839, 0.7530626664605651, 0.7145913822798585, 0.7579879641215637, 0.7447340442576824, 0.7532767000663307, 0.7426184211113344, 0.7301700521247354, 0.7423998621749316, 0.7359420461750737, 0.7544092186669369, 0.7673068888183746, 0.7670195386494912]}, {\"categories\": [\"0\", \"1\", \"2\", \"3\", \"4\", \"5\", \"6\", \"7\", \"8\", \"9\", \"10\", \"11\", \"12\", \"13\", \"14\", \"15\", \"16\", \"17\", \"18\", \"19\", \"20\", \"21\", \"22\", \"23\", \"24\", \"25\", \"26\", \"27\", \"28\", \"29\", \"30\", \"31\", \"32\", \"33\", \"36\", \"37\"], \"mode\": \"lines\", \"name\": \"AUC_macro_max\", \"stepped\": true, \"type\": \"scatter\", \"data\": [0.7500737900446656, 0.769792591535564, 0.769792591535564, 0.769792591535564, 0.769792591535564, 0.769792591535564, 0.769792591535564, 0.769792591535564, 0.769792591535564, 0.769792591535564, 0.769792591535564, 0.769792591535564, 0.769792591535564, 0.769792591535564, 0.769792591535564, 0.769792591535564, 0.769792591535564, 0.769792591535564, 0.769792591535564, 0.769792591535564, 0.769792591535564, 0.769792591535564, 0.769792591535564, 0.769792591535564, 0.769792591535564, 0.769792591535564, 0.769792591535564, 0.769792591535564, 0.769792591535564, 0.769792591535564, 0.769792591535564, 0.769792591535564, 0.769792591535564, 0.769792591535564, 0.769792591535564, 0.769792591535564]}], \"recall_score_micro\": [{\"categories\": [\"0\", \"1\", \"2\", \"3\", \"4\", \"5\", \"6\", \"7\", \"8\", \"9\", \"10\", \"11\", \"12\", \"13\", \"14\", \"15\", \"16\", \"17\", \"18\", \"19\", \"20\", \"21\", \"22\", \"23\", \"24\", \"25\", \"26\", \"27\", \"28\", \"29\", \"30\", \"31\", \"32\", \"33\", \"36\", \"37\"], \"mode\": \"markers\", \"name\": \"recall_score_micro\", \"stepped\": false, \"type\": \"scatter\", \"data\": [0.6947021530349634, 0.7137844454208776, 0.723846588412529, 0.7059129998116879, 0.7003138534931894, 0.713796999560605, 0.7137844454208775, 0.7070303182474421, 0.7003075764233256, 0.7003326847027808, 0.7261126106333562, 0.7160128052225221, 0.6868872010545478, 0.7081664678927876, 0.6991902579875713, 0.7149017638566317, 0.7171364007281401, 0.7216245056807482, 0.7261188877032202, 0.7160128052225222, 0.7137718912811499, 0.7137781683510138, 0.6823426024731655, 0.700326407632917, 0.7182537191638942, 0.6498148264390183, 0.714895486786768, 0.6958257485405813, 0.7227355470466387, 0.7238528654823928, 0.6161571778293892, 0.70815391375306, 0.7205197413847215, 0.7081790220325151, 0.7407130751365263, 0.732860460736928]}, {\"categories\": [\"0\", \"1\", \"2\", \"3\", \"4\", \"5\", \"6\", \"7\", \"8\", \"9\", \"10\", \"11\", \"12\", \"13\", \"14\", \"15\", \"16\", \"17\", \"18\", \"19\", \"20\", \"21\", \"22\", \"23\", \"24\", \"25\", \"26\", \"27\", \"28\", \"29\", \"30\", \"31\", \"32\", \"33\", \"36\", \"37\"], \"mode\": \"lines\", \"name\": \"recall_score_micro_max\", \"stepped\": true, \"type\": \"scatter\", \"data\": [0.6947021530349634, 0.7137844454208776, 0.723846588412529, 0.723846588412529, 0.723846588412529, 0.723846588412529, 0.723846588412529, 0.723846588412529, 0.723846588412529, 0.723846588412529, 0.7261126106333562, 0.7261126106333562, 0.7261126106333562, 0.7261126106333562, 0.7261126106333562, 0.7261126106333562, 0.7261126106333562, 0.7261126106333562, 0.7261188877032202, 0.7261188877032202, 0.7261188877032202, 0.7261188877032202, 0.7261188877032202, 0.7261188877032202, 0.7261188877032202, 0.7261188877032202, 0.7261188877032202, 0.7261188877032202, 0.7261188877032202, 0.7261188877032202, 0.7261188877032202, 0.7261188877032202, 0.7261188877032202, 0.7261188877032202, 0.7407130751365263, 0.7407130751365263]}], \"weighted_accuracy\": [{\"categories\": [\"0\", \"1\", \"2\", \"3\", \"4\", \"5\", \"6\", \"7\", \"8\", \"9\", \"10\", \"11\", \"12\", \"13\", \"14\", \"15\", \"16\", \"17\", \"18\", \"19\", \"20\", \"21\", \"22\", \"23\", \"24\", \"25\", \"26\", \"27\", \"28\", \"29\", \"30\", \"31\", \"32\", \"33\", \"36\", \"37\"], \"mode\": \"markers\", \"name\": \"weighted_accuracy\", \"stepped\": false, \"type\": \"scatter\", \"data\": [0.720247295353627, 0.7465048058732339, 0.7581006801297097, 0.7450395048947827, 0.709402674102443, 0.7508872019474881, 0.7527616837635785, 0.7396204523006151, 0.754652242775407, 0.7385138878469029, 0.7614382013971738, 0.7600796607626277, 0.7130508298804368, 0.7390029021982949, 0.7280609235941619, 0.7526547064127472, 0.7528432805675822, 0.7629525189300559, 0.7710642705503157, 0.754447685056199, 0.7514382123225963, 0.7513207490057732, 0.7116837579632673, 0.7249885554386721, 0.7658953592352424, 0.7323907054720511, 0.7557466925006511, 0.7361549266869115, 0.7653921982609425, 0.7625194459575836, 0.7154856197517837, 0.7520536492378456, 0.762943831488842, 0.740809493899083, 0.7781090819305085, 0.7662587846753288]}, {\"categories\": [\"0\", \"1\", \"2\", \"3\", \"4\", \"5\", \"6\", \"7\", \"8\", \"9\", \"10\", \"11\", \"12\", \"13\", \"14\", \"15\", \"16\", \"17\", \"18\", \"19\", \"20\", \"21\", \"22\", \"23\", \"24\", \"25\", \"26\", \"27\", \"28\", \"29\", \"30\", \"31\", \"32\", \"33\", \"36\", \"37\"], \"mode\": \"lines\", \"name\": \"weighted_accuracy_max\", \"stepped\": true, \"type\": \"scatter\", \"data\": [0.720247295353627, 0.7465048058732339, 0.7581006801297097, 0.7581006801297097, 0.7581006801297097, 0.7581006801297097, 0.7581006801297097, 0.7581006801297097, 0.7581006801297097, 0.7581006801297097, 0.7614382013971738, 0.7614382013971738, 0.7614382013971738, 0.7614382013971738, 0.7614382013971738, 0.7614382013971738, 0.7614382013971738, 0.7629525189300559, 0.7710642705503157, 0.7710642705503157, 0.7710642705503157, 0.7710642705503157, 0.7710642705503157, 0.7710642705503157, 0.7710642705503157, 0.7710642705503157, 0.7710642705503157, 0.7710642705503157, 0.7710642705503157, 0.7710642705503157, 0.7710642705503157, 0.7710642705503157, 0.7710642705503157, 0.7710642705503157, 0.7781090819305085, 0.7781090819305085]}], \"average_precision_score_micro\": [{\"categories\": [\"0\", \"1\", \"2\", \"3\", \"4\", \"5\", \"6\", \"7\", \"8\", \"9\", \"10\", \"11\", \"12\", \"13\", \"14\", \"15\", \"16\", \"17\", \"18\", \"19\", \"20\", \"21\", \"22\", \"23\", \"24\", \"25\", \"26\", \"27\", \"28\", \"29\", \"30\", \"31\", \"32\", \"33\", \"36\", \"37\"], \"mode\": \"markers\", \"name\": \"average_precision_score_micro\", \"stepped\": false, \"type\": \"scatter\", \"data\": [0.7657311134119988, 0.779809195851349, 0.7792135918206067, 0.7581410671786339, 0.7576297627239633, 0.7687626093894236, 0.7565264438668171, 0.7606926913866514, 0.7383436881611546, 0.7394058147360271, 0.7731619933378977, 0.75735034281181, 0.7449445855842358, 0.7630745621828057, 0.7600249859126438, 0.7464715203257983, 0.7658676072642698, 0.740799555932947, 0.7472280762788992, 0.7598835865033298, 0.765163129168154, 0.7468379558695288, 0.7368137630624757, 0.7580625414707229, 0.7600181301865769, 0.7139877760147069, 0.7596284428034773, 0.7565040844506077, 0.7627192793425689, 0.7576733886216374, 0.7182114658749479, 0.7543223005679555, 0.7417448795695949, 0.7641882651222938, 0.7753838676964959, 0.7722643615815243]}, {\"categories\": [\"0\", \"1\", \"2\", \"3\", \"4\", \"5\", \"6\", \"7\", \"8\", \"9\", \"10\", \"11\", \"12\", \"13\", \"14\", \"15\", \"16\", \"17\", \"18\", \"19\", \"20\", \"21\", \"22\", \"23\", \"24\", \"25\", \"26\", \"27\", \"28\", \"29\", \"30\", \"31\", \"32\", \"33\", \"36\", \"37\"], \"mode\": \"lines\", \"name\": \"average_precision_score_micro_max\", \"stepped\": true, \"type\": \"scatter\", \"data\": [0.7657311134119988, 0.779809195851349, 0.779809195851349, 0.779809195851349, 0.779809195851349, 0.779809195851349, 0.779809195851349, 0.779809195851349, 0.779809195851349, 0.779809195851349, 0.779809195851349, 0.779809195851349, 0.779809195851349, 0.779809195851349, 0.779809195851349, 0.779809195851349, 0.779809195851349, 0.779809195851349, 0.779809195851349, 0.779809195851349, 0.779809195851349, 0.779809195851349, 0.779809195851349, 0.779809195851349, 0.779809195851349, 0.779809195851349, 0.779809195851349, 0.779809195851349, 0.779809195851349, 0.779809195851349, 0.779809195851349, 0.779809195851349, 0.779809195851349, 0.779809195851349, 0.779809195851349, 0.779809195851349]}], \"precision_score_micro\": [{\"categories\": [\"0\", \"1\", \"2\", \"3\", \"4\", \"5\", \"6\", \"7\", \"8\", \"9\", \"10\", \"11\", \"12\", \"13\", \"14\", \"15\", \"16\", \"17\", \"18\", \"19\", \"20\", \"21\", \"22\", \"23\", \"24\", \"25\", \"26\", \"27\", \"28\", \"29\", \"30\", \"31\", \"32\", \"33\", \"36\", \"37\"], \"mode\": \"markers\", \"name\": \"precision_score_micro\", \"stepped\": false, \"type\": \"scatter\", \"data\": [0.6947021530349634, 0.7137844454208776, 0.723846588412529, 0.7059129998116879, 0.7003138534931894, 0.713796999560605, 0.7137844454208775, 0.7070303182474421, 0.7003075764233256, 0.7003326847027808, 0.7261126106333562, 0.7160128052225221, 0.6868872010545478, 0.7081664678927876, 0.6991902579875713, 0.7149017638566317, 0.7171364007281401, 0.7216245056807482, 0.7261188877032202, 0.7160128052225222, 0.7137718912811499, 0.7137781683510138, 0.6823426024731655, 0.700326407632917, 0.7182537191638942, 0.6498148264390183, 0.714895486786768, 0.6958257485405813, 0.7227355470466387, 0.7238528654823928, 0.6161571778293892, 0.70815391375306, 0.7205197413847215, 0.7081790220325151, 0.7407130751365263, 0.732860460736928]}, {\"categories\": [\"0\", \"1\", \"2\", \"3\", \"4\", \"5\", \"6\", \"7\", \"8\", \"9\", \"10\", \"11\", \"12\", \"13\", \"14\", \"15\", \"16\", \"17\", \"18\", \"19\", \"20\", \"21\", \"22\", \"23\", \"24\", \"25\", \"26\", \"27\", \"28\", \"29\", \"30\", \"31\", \"32\", \"33\", \"36\", \"37\"], \"mode\": \"lines\", \"name\": \"precision_score_micro_max\", \"stepped\": true, \"type\": \"scatter\", \"data\": [0.6947021530349634, 0.7137844454208776, 0.723846588412529, 0.723846588412529, 0.723846588412529, 0.723846588412529, 0.723846588412529, 0.723846588412529, 0.723846588412529, 0.723846588412529, 0.7261126106333562, 0.7261126106333562, 0.7261126106333562, 0.7261126106333562, 0.7261126106333562, 0.7261126106333562, 0.7261126106333562, 0.7261126106333562, 0.7261188877032202, 0.7261188877032202, 0.7261188877032202, 0.7261188877032202, 0.7261188877032202, 0.7261188877032202, 0.7261188877032202, 0.7261188877032202, 0.7261188877032202, 0.7261188877032202, 0.7261188877032202, 0.7261188877032202, 0.7261188877032202, 0.7261188877032202, 0.7261188877032202, 0.7261188877032202, 0.7407130751365263, 0.7407130751365263]}], \"precision_score_weighted\": [{\"categories\": [\"0\", \"1\", \"2\", \"3\", \"4\", \"5\", \"6\", \"7\", \"8\", \"9\", \"10\", \"11\", \"12\", \"13\", \"14\", \"15\", \"16\", \"17\", \"18\", \"19\", \"20\", \"21\", \"22\", \"23\", \"24\", \"25\", \"26\", \"27\", \"28\", \"29\", \"30\", \"31\", \"32\", \"33\", \"36\", \"37\"], \"mode\": \"markers\", \"name\": \"precision_score_weighted\", \"stepped\": false, \"type\": \"scatter\", \"data\": [0.6916425736066872, 0.712657066182595, 0.7253781326862294, 0.7053060444235688, 0.708456435771438, 0.7127261240320925, 0.7138427671364688, 0.702508604750712, 0.706977649504289, 0.6981666562670065, 0.7269246293411968, 0.7172892951672973, 0.6821133676741512, 0.7028679731068367, 0.6939931358906377, 0.7170272050928214, 0.7169285480015326, 0.7201921451428135, 0.7328761913561024, 0.7158453727042674, 0.7136159498427324, 0.7157699445080021, 0.6800803937516904, 0.6970031540736221, 0.7255705630624179, 0.6946392201351101, 0.714433296765745, 0.6933538616609484, 0.7227070744126873, 0.7240208574340679, 0.3817934587431555, 0.7091614570572329, 0.721700810349424, 0.7060003673240136, 0.7446481615568833, 0.7375736747160693]}, {\"categories\": [\"0\", \"1\", \"2\", \"3\", \"4\", \"5\", \"6\", \"7\", \"8\", \"9\", \"10\", \"11\", \"12\", \"13\", \"14\", \"15\", \"16\", \"17\", \"18\", \"19\", \"20\", \"21\", \"22\", \"23\", \"24\", \"25\", \"26\", \"27\", \"28\", \"29\", \"30\", \"31\", \"32\", \"33\", \"36\", \"37\"], \"mode\": \"lines\", \"name\": \"precision_score_weighted_max\", \"stepped\": true, \"type\": \"scatter\", \"data\": [0.6916425736066872, 0.712657066182595, 0.7253781326862294, 0.7253781326862294, 0.7253781326862294, 0.7253781326862294, 0.7253781326862294, 0.7253781326862294, 0.7253781326862294, 0.7253781326862294, 0.7269246293411968, 0.7269246293411968, 0.7269246293411968, 0.7269246293411968, 0.7269246293411968, 0.7269246293411968, 0.7269246293411968, 0.7269246293411968, 0.7328761913561024, 0.7328761913561024, 0.7328761913561024, 0.7328761913561024, 0.7328761913561024, 0.7328761913561024, 0.7328761913561024, 0.7328761913561024, 0.7328761913561024, 0.7328761913561024, 0.7328761913561024, 0.7328761913561024, 0.7328761913561024, 0.7328761913561024, 0.7328761913561024, 0.7328761913561024, 0.7446481615568833, 0.7446481615568833]}], \"f1_score_micro\": [{\"categories\": [\"0\", \"1\", \"2\", \"3\", \"4\", \"5\", \"6\", \"7\", \"8\", \"9\", \"10\", \"11\", \"12\", \"13\", \"14\", \"15\", \"16\", \"17\", \"18\", \"19\", \"20\", \"21\", \"22\", \"23\", \"24\", \"25\", \"26\", \"27\", \"28\", \"29\", \"30\", \"31\", \"32\", \"33\", \"36\", \"37\"], \"mode\": \"markers\", \"name\": \"f1_score_micro\", \"stepped\": false, \"type\": \"scatter\", \"data\": [0.6947021530349634, 0.7137844454208776, 0.7238465884125291, 0.705912999811688, 0.7003138534931894, 0.7137969995606052, 0.7137844454208775, 0.7070303182474421, 0.7003075764233256, 0.7003326847027808, 0.7261126106333563, 0.7160128052225221, 0.6868872010545478, 0.7081664678927876, 0.6991902579875713, 0.7149017638566317, 0.7171364007281401, 0.7216245056807482, 0.7261188877032202, 0.7160128052225222, 0.7137718912811499, 0.7137781683510138, 0.6823426024731655, 0.700326407632917, 0.7182537191638942, 0.6498148264390183, 0.7148954867867678, 0.6958257485405813, 0.7227355470466387, 0.7238528654823928, 0.6161571778293892, 0.70815391375306, 0.7205197413847216, 0.7081790220325154, 0.7407130751365263, 0.732860460736928]}, {\"categories\": [\"0\", \"1\", \"2\", \"3\", \"4\", \"5\", \"6\", \"7\", \"8\", \"9\", \"10\", \"11\", \"12\", \"13\", \"14\", \"15\", \"16\", \"17\", \"18\", \"19\", \"20\", \"21\", \"22\", \"23\", \"24\", \"25\", \"26\", \"27\", \"28\", \"29\", \"30\", \"31\", \"32\", \"33\", \"36\", \"37\"], \"mode\": \"lines\", \"name\": \"f1_score_micro_max\", \"stepped\": true, \"type\": \"scatter\", \"data\": [0.6947021530349634, 0.7137844454208776, 0.7238465884125291, 0.7238465884125291, 0.7238465884125291, 0.7238465884125291, 0.7238465884125291, 0.7238465884125291, 0.7238465884125291, 0.7238465884125291, 0.7261126106333563, 0.7261126106333563, 0.7261126106333563, 0.7261126106333563, 0.7261126106333563, 0.7261126106333563, 0.7261126106333563, 0.7261126106333563, 0.7261188877032202, 0.7261188877032202, 0.7261188877032202, 0.7261188877032202, 0.7261188877032202, 0.7261188877032202, 0.7261188877032202, 0.7261188877032202, 0.7261188877032202, 0.7261188877032202, 0.7261188877032202, 0.7261188877032202, 0.7261188877032202, 0.7261188877032202, 0.7261188877032202, 0.7261188877032202, 0.7407130751365263, 0.7407130751365263]}], \"matthews_correlation\": [{\"categories\": [\"0\", \"1\", \"2\", \"3\", \"4\", \"5\", \"6\", \"7\", \"8\", \"9\", \"10\", \"11\", \"12\", \"13\", \"14\", \"15\", \"16\", \"17\", \"18\", \"19\", \"20\", \"21\", \"22\", \"23\", \"24\", \"25\", \"26\", \"27\", \"28\", \"29\", \"30\", \"31\", \"32\", \"33\", \"36\", \"37\"], \"mode\": \"markers\", \"name\": \"matthews_correlation\", \"stepped\": false, \"type\": \"scatter\", \"data\": [0.33868047584937333, 0.3755280239415595, 0.3975009766386974, 0.3523561595639614, 0.3734012664642803, 0.3711382853680014, 0.3706698798695813, 0.35680900781320923, 0.3339166419638823, 0.3386963487018392, 0.4008136726190513, 0.37265392074354775, 0.3188838024450804, 0.36027026248803506, 0.3432505605652987, 0.3764712028108276, 0.38057586145452427, 0.3831146814913658, 0.3989326676614895, 0.37628918938669004, 0.3715891747196285, 0.3740729705792455, 0.3103775183942181, 0.3508408198189089, 0.3807025630670813, 0.2057391431079066, 0.3701514692046182, 0.32949648615880933, 0.38663766432696517, 0.39183119116554394, 0.0, 0.35573587059480094, 0.38446308750163677, 0.3612555449070573, 0.4346197508322069, 0.4208743664067697]}, {\"categories\": [\"0\", \"1\", \"2\", \"3\", \"4\", \"5\", \"6\", \"7\", \"8\", \"9\", \"10\", \"11\", \"12\", \"13\", \"14\", \"15\", \"16\", \"17\", \"18\", \"19\", \"20\", \"21\", \"22\", \"23\", \"24\", \"25\", \"26\", \"27\", \"28\", \"29\", \"30\", \"31\", \"32\", \"33\", \"36\", \"37\"], \"mode\": \"lines\", \"name\": \"matthews_correlation_max\", \"stepped\": true, \"type\": \"scatter\", \"data\": [0.33868047584937333, 0.3755280239415595, 0.3975009766386974, 0.3975009766386974, 0.3975009766386974, 0.3975009766386974, 0.3975009766386974, 0.3975009766386974, 0.3975009766386974, 0.3975009766386974, 0.4008136726190513, 0.4008136726190513, 0.4008136726190513, 0.4008136726190513, 0.4008136726190513, 0.4008136726190513, 0.4008136726190513, 0.4008136726190513, 0.4008136726190513, 0.4008136726190513, 0.4008136726190513, 0.4008136726190513, 0.4008136726190513, 0.4008136726190513, 0.4008136726190513, 0.4008136726190513, 0.4008136726190513, 0.4008136726190513, 0.4008136726190513, 0.4008136726190513, 0.4008136726190513, 0.4008136726190513, 0.4008136726190513, 0.4008136726190513, 0.4346197508322069, 0.4346197508322069]}], \"recall_score_macro\": [{\"categories\": [\"0\", \"1\", \"2\", \"3\", \"4\", \"5\", \"6\", \"7\", \"8\", \"9\", \"10\", \"11\", \"12\", \"13\", \"14\", \"15\", \"16\", \"17\", \"18\", \"19\", \"20\", \"21\", \"22\", \"23\", \"24\", \"25\", \"26\", \"27\", \"28\", \"29\", \"30\", \"31\", \"32\", \"33\", \"36\", \"37\"], \"mode\": \"markers\", \"name\": \"recall_score_macro\", \"stepped\": false, \"type\": \"scatter\", \"data\": [0.6645497547209578, 0.6757827639194101, 0.6839744170674966, 0.660113596523269, 0.6889628776535593, 0.670354206245244, 0.6683244194861964, 0.6687426442688581, 0.6365781392468068, 0.6550009953295552, 0.6848654441028993, 0.6644695938573661, 0.6555216133872823, 0.6714979655051575, 0.6649843484500508, 0.6711345684680284, 0.6755694770042251, 0.6729587015216469, 0.673575206513646, 0.6712536821532098, 0.6698028484043349, 0.6702573754855723, 0.6482728507416395, 0.671112140439552, 0.6626613655205499, 0.5538160700114847, 0.6667733266126413, 0.6489012205346012, 0.6724774724302012, 0.6785043419327266, 0.5, 0.6569391434905343, 0.6710950118110921, 0.6700023833717896, 0.6971047779152577, 0.6942448002315699]}, {\"categories\": [\"0\", \"1\", \"2\", \"3\", \"4\", \"5\", \"6\", \"7\", \"8\", \"9\", \"10\", \"11\", \"12\", \"13\", \"14\", \"15\", \"16\", \"17\", \"18\", \"19\", \"20\", \"21\", \"22\", \"23\", \"24\", \"25\", \"26\", \"27\", \"28\", \"29\", \"30\", \"31\", \"32\", \"33\", \"36\", \"37\"], \"mode\": \"lines\", \"name\": \"recall_score_macro_max\", \"stepped\": true, \"type\": \"scatter\", \"data\": [0.6645497547209578, 0.6757827639194101, 0.6839744170674966, 0.6839744170674966, 0.6889628776535593, 0.6889628776535593, 0.6889628776535593, 0.6889628776535593, 0.6889628776535593, 0.6889628776535593, 0.6889628776535593, 0.6889628776535593, 0.6889628776535593, 0.6889628776535593, 0.6889628776535593, 0.6889628776535593, 0.6889628776535593, 0.6889628776535593, 0.6889628776535593, 0.6889628776535593, 0.6889628776535593, 0.6889628776535593, 0.6889628776535593, 0.6889628776535593, 0.6889628776535593, 0.6889628776535593, 0.6889628776535593, 0.6889628776535593, 0.6889628776535593, 0.6889628776535593, 0.6889628776535593, 0.6889628776535593, 0.6889628776535593, 0.6889628776535593, 0.6971047779152577, 0.6971047779152577]}], \"log_loss\": [{\"categories\": [\"0\", \"1\", \"2\", \"3\", \"4\", \"5\", \"6\", \"7\", \"8\", \"9\", \"10\", \"11\", \"12\", \"13\", \"14\", \"15\", \"16\", \"17\", \"18\", \"19\", \"20\", \"21\", \"22\", \"23\", \"24\", \"25\", \"26\", \"27\", \"28\", \"29\", \"30\", \"31\", \"32\", \"33\", \"36\", \"37\"], \"mode\": \"markers\", \"name\": \"log_loss\", \"stepped\": false, \"type\": \"scatter\", \"data\": [0.6283259803244203, 0.5596966763713367, 0.560960080466159, 0.5778359672339662, 0.5772611186887938, 0.5653262963495925, 0.5721817809038553, 0.5904803484899837, 0.6004662101860206, 0.5871150584328797, 0.5676219990384354, 0.5772929046572906, 0.7367620658405915, 0.5754167343009855, 0.6020593776924165, 0.5831247708703039, 0.5639882906978071, 0.5907499170176032, 0.590310639857274, 0.5675014024967547, 0.5691921757746228, 0.5830898130371708, 0.5990401088729715, 0.6196433735332297, 0.5792862511278731, 0.6318208796632643, 0.5698698692589583, 0.5812591824980948, 0.5755991499105207, 0.5865873846378075, 0.6418330939971495, 0.5834366086337021, 0.6001438308660613, 0.5722674282923038, 0.5675784203127373, 0.5610359828224893]}, {\"categories\": [\"0\", \"1\", \"2\", \"3\", \"4\", \"5\", \"6\", \"7\", \"8\", \"9\", \"10\", \"11\", \"12\", \"13\", \"14\", \"15\", \"16\", \"17\", \"18\", \"19\", \"20\", \"21\", \"22\", \"23\", \"24\", \"25\", \"26\", \"27\", \"28\", \"29\", \"30\", \"31\", \"32\", \"33\", \"36\", \"37\"], \"mode\": \"lines\", \"name\": \"log_loss_min\", \"stepped\": true, \"type\": \"scatter\", \"data\": [0.6283259803244203, 0.5596966763713367, 0.5596966763713367, 0.5596966763713367, 0.5596966763713367, 0.5596966763713367, 0.5596966763713367, 0.5596966763713367, 0.5596966763713367, 0.5596966763713367, 0.5596966763713367, 0.5596966763713367, 0.5596966763713367, 0.5596966763713367, 0.5596966763713367, 0.5596966763713367, 0.5596966763713367, 0.5596966763713367, 0.5596966763713367, 0.5596966763713367, 0.5596966763713367, 0.5596966763713367, 0.5596966763713367, 0.5596966763713367, 0.5596966763713367, 0.5596966763713367, 0.5596966763713367, 0.5596966763713367, 0.5596966763713367, 0.5596966763713367, 0.5596966763713367, 0.5596966763713367, 0.5596966763713367, 0.5596966763713367, 0.5596966763713367, 0.5596966763713367]}], \"precision_score_macro\": [{\"categories\": [\"0\", \"1\", \"2\", \"3\", \"4\", \"5\", \"6\", \"7\", \"8\", \"9\", \"10\", \"11\", \"12\", \"13\", \"14\", \"15\", \"16\", \"17\", \"18\", \"19\", \"20\", \"21\", \"22\", \"23\", \"24\", \"25\", \"26\", \"27\", \"28\", \"29\", \"30\", \"31\", \"32\", \"33\", \"36\", \"37\"], \"mode\": \"markers\", \"name\": \"precision_score_macro\", \"stepped\": false, \"type\": \"scatter\", \"data\": [0.6744317595527052, 0.7007062748231615, 0.7150253329533842, 0.6941817078061258, 0.684505660473697, 0.7023187679762698, 0.7041802791392346, 0.6888366610205905, 0.7041962321142183, 0.685544412917025, 0.7175220409752592, 0.7112507674696346, 0.663564905430112, 0.6893728389566802, 0.6786269525974209, 0.7074300459002062, 0.706379959913136, 0.7122647234335135, 0.7293767111083553, 0.7068169911836495, 0.7034760051466401, 0.7058457779049697, 0.6627851591865269, 0.6799364825299532, 0.7231224357078477, 0.7037012393196671, 0.7056035797496694, 0.6825765454156978, 0.7168193553565814, 0.7150997442201834, 0.3080785889146946, 0.7018196469338595, 0.7162369332920635, 0.6919876259952089, 0.73975554369283, 0.7284787696591488]}, {\"categories\": [\"0\", \"1\", \"2\", \"3\", \"4\", \"5\", \"6\", \"7\", \"8\", \"9\", \"10\", \"11\", \"12\", \"13\", \"14\", \"15\", \"16\", \"17\", \"18\", \"19\", \"20\", \"21\", \"22\", \"23\", \"24\", \"25\", \"26\", \"27\", \"28\", \"29\", \"30\", \"31\", \"32\", \"33\", \"36\", \"37\"], \"mode\": \"lines\", \"name\": \"precision_score_macro_max\", \"stepped\": true, \"type\": \"scatter\", \"data\": [0.6744317595527052, 0.7007062748231615, 0.7150253329533842, 0.7150253329533842, 0.7150253329533842, 0.7150253329533842, 0.7150253329533842, 0.7150253329533842, 0.7150253329533842, 0.7150253329533842, 0.7175220409752592, 0.7175220409752592, 0.7175220409752592, 0.7175220409752592, 0.7175220409752592, 0.7175220409752592, 0.7175220409752592, 0.7175220409752592, 0.7293767111083553, 0.7293767111083553, 0.7293767111083553, 0.7293767111083553, 0.7293767111083553, 0.7293767111083553, 0.7293767111083553, 0.7293767111083553, 0.7293767111083553, 0.7293767111083553, 0.7293767111083553, 0.7293767111083553, 0.7293767111083553, 0.7293767111083553, 0.7293767111083553, 0.7293767111083553, 0.73975554369283, 0.73975554369283]}], \"norm_macro_recall\": [{\"categories\": [\"0\", \"1\", \"2\", \"3\", \"4\", \"5\", \"6\", \"7\", \"8\", \"9\", \"10\", \"11\", \"12\", \"13\", \"14\", \"15\", \"16\", \"17\", \"18\", \"19\", \"20\", \"21\", \"22\", \"23\", \"24\", \"25\", \"26\", \"27\", \"28\", \"29\", \"30\", \"31\", \"32\", \"33\", \"36\", \"37\"], \"mode\": \"markers\", \"name\": \"norm_macro_recall\", \"stepped\": false, \"type\": \"scatter\", \"data\": [0.3290995094419156, 0.3515655278388202, 0.36794883413499335, 0.320227193046538, 0.3779257553071186, 0.3407084124904879, 0.33664883897239284, 0.33748528853771614, 0.2731562784936138, 0.3100019906591105, 0.3697308882057987, 0.3289391877147322, 0.31104322677456486, 0.3429959310103151, 0.3299686969001015, 0.34226913693605676, 0.35113895400844997, 0.34591740304329394, 0.3471504130272918, 0.3425073643064196, 0.3396056968086699, 0.3405147509711445, 0.29654570148327897, 0.34222428087910417, 0.32532273104109966, 0.10763214002296966, 0.3335466532252826, 0.29780244106920245, 0.3449549448604025, 0.35700868386545326, 0.0, 0.3138782869810686, 0.3421900236221841, 0.3400047667435792, 0.39420955583051553, 0.38848960046313963]}, {\"categories\": [\"0\", \"1\", \"2\", \"3\", \"4\", \"5\", \"6\", \"7\", \"8\", \"9\", \"10\", \"11\", \"12\", \"13\", \"14\", \"15\", \"16\", \"17\", \"18\", \"19\", \"20\", \"21\", \"22\", \"23\", \"24\", \"25\", \"26\", \"27\", \"28\", \"29\", \"30\", \"31\", \"32\", \"33\", \"36\", \"37\"], \"mode\": \"lines\", \"name\": \"norm_macro_recall_max\", \"stepped\": true, \"type\": \"scatter\", \"data\": [0.3290995094419156, 0.3515655278388202, 0.36794883413499335, 0.36794883413499335, 0.3779257553071186, 0.3779257553071186, 0.3779257553071186, 0.3779257553071186, 0.3779257553071186, 0.3779257553071186, 0.3779257553071186, 0.3779257553071186, 0.3779257553071186, 0.3779257553071186, 0.3779257553071186, 0.3779257553071186, 0.3779257553071186, 0.3779257553071186, 0.3779257553071186, 0.3779257553071186, 0.3779257553071186, 0.3779257553071186, 0.3779257553071186, 0.3779257553071186, 0.3779257553071186, 0.3779257553071186, 0.3779257553071186, 0.3779257553071186, 0.3779257553071186, 0.3779257553071186, 0.3779257553071186, 0.3779257553071186, 0.3779257553071186, 0.3779257553071186, 0.39420955583051553, 0.39420955583051553]}], \"AUC_micro\": [{\"categories\": [\"0\", \"1\", \"2\", \"3\", \"4\", \"5\", \"6\", \"7\", \"8\", \"9\", \"10\", \"11\", \"12\", \"13\", \"14\", \"15\", \"16\", \"17\", \"18\", \"19\", \"20\", \"21\", \"22\", \"23\", \"24\", \"25\", \"26\", \"27\", \"28\", \"29\", \"30\", \"31\", \"32\", \"33\", \"36\", \"37\"], \"mode\": \"markers\", \"name\": \"AUC_micro\", \"stepped\": false, \"type\": \"scatter\", \"data\": [0.7710803265531035, 0.7906924688845812, 0.7882657367719519, 0.7734337202593378, 0.769309145556826, 0.7806407354032388, 0.7770770799947285, 0.7727749163433965, 0.7541337314387555, 0.7614239233730804, 0.7848672217688388, 0.7769324238933056, 0.76131467020574, 0.7819344473430849, 0.7713195624667566, 0.7640899004617321, 0.7854893646574158, 0.7616701664683576, 0.7633240681901374, 0.7801464920980612, 0.780813102851222, 0.7644760781639762, 0.7471093866718024, 0.7713989675384391, 0.7745807540073374, 0.7202908974476628, 0.7824400148668563, 0.7687690986726186, 0.7785062172247346, 0.7674962752972249, 0.7242003598698409, 0.7693745904424684, 0.7654683806228716, 0.77929947872739, 0.7888143999993759, 0.7871894925404506]}, {\"categories\": [\"0\", \"1\", \"2\", \"3\", \"4\", \"5\", \"6\", \"7\", \"8\", \"9\", \"10\", \"11\", \"12\", \"13\", \"14\", \"15\", \"16\", \"17\", \"18\", \"19\", \"20\", \"21\", \"22\", \"23\", \"24\", \"25\", \"26\", \"27\", \"28\", \"29\", \"30\", \"31\", \"32\", \"33\", \"36\", \"37\"], \"mode\": \"lines\", \"name\": \"AUC_micro_max\", \"stepped\": true, \"type\": \"scatter\", \"data\": [0.7710803265531035, 0.7906924688845812, 0.7906924688845812, 0.7906924688845812, 0.7906924688845812, 0.7906924688845812, 0.7906924688845812, 0.7906924688845812, 0.7906924688845812, 0.7906924688845812, 0.7906924688845812, 0.7906924688845812, 0.7906924688845812, 0.7906924688845812, 0.7906924688845812, 0.7906924688845812, 0.7906924688845812, 0.7906924688845812, 0.7906924688845812, 0.7906924688845812, 0.7906924688845812, 0.7906924688845812, 0.7906924688845812, 0.7906924688845812, 0.7906924688845812, 0.7906924688845812, 0.7906924688845812, 0.7906924688845812, 0.7906924688845812, 0.7906924688845812, 0.7906924688845812, 0.7906924688845812, 0.7906924688845812, 0.7906924688845812, 0.7906924688845812, 0.7906924688845812]}], \"f1_score_macro\": [{\"categories\": [\"0\", \"1\", \"2\", \"3\", \"4\", \"5\", \"6\", \"7\", \"8\", \"9\", \"10\", \"11\", \"12\", \"13\", \"14\", \"15\", \"16\", \"17\", \"18\", \"19\", \"20\", \"21\", \"22\", \"23\", \"24\", \"25\", \"26\", \"27\", \"28\", \"29\", \"30\", \"31\", \"32\", \"33\", \"36\", \"37\"], \"mode\": \"markers\", \"name\": \"f1_score_macro\", \"stepped\": false, \"type\": \"scatter\", \"data\": [0.6663245775201853, 0.6786036230107607, 0.686827875166235, 0.6623279404697964, 0.6843380002711772, 0.6736982960199273, 0.6717261580858713, 0.6716699704292498, 0.6343951689270865, 0.6566394142665887, 0.6885507798695867, 0.6676675961391135, 0.657335188442062, 0.675337479988749, 0.668277756857687, 0.6730767614943568, 0.6789675336983795, 0.6773979332594067, 0.677029954979286, 0.6746196129155673, 0.6728935113476668, 0.6721344870537478, 0.6487564327349379, 0.6731050567933857, 0.6641621856616423, 0.49709250208187034, 0.669684038659726, 0.6496589589761745, 0.6766128415839299, 0.6832155796343283, 0.38074060725393644, 0.658715881370793, 0.6744558482837046, 0.6731787395872185, 0.7024558346427813, 0.6974140363669578]}, {\"categories\": [\"0\", \"1\", \"2\", \"3\", \"4\", \"5\", \"6\", \"7\", \"8\", \"9\", \"10\", \"11\", \"12\", \"13\", \"14\", \"15\", \"16\", \"17\", \"18\", \"19\", \"20\", \"21\", \"22\", \"23\", \"24\", \"25\", \"26\", \"27\", \"28\", \"29\", \"30\", \"31\", \"32\", \"33\", \"36\", \"37\"], \"mode\": \"lines\", \"name\": \"f1_score_macro_max\", \"stepped\": true, \"type\": \"scatter\", \"data\": [0.6663245775201853, 0.6786036230107607, 0.686827875166235, 0.686827875166235, 0.686827875166235, 0.686827875166235, 0.686827875166235, 0.686827875166235, 0.686827875166235, 0.686827875166235, 0.6885507798695867, 0.6885507798695867, 0.6885507798695867, 0.6885507798695867, 0.6885507798695867, 0.6885507798695867, 0.6885507798695867, 0.6885507798695867, 0.6885507798695867, 0.6885507798695867, 0.6885507798695867, 0.6885507798695867, 0.6885507798695867, 0.6885507798695867, 0.6885507798695867, 0.6885507798695867, 0.6885507798695867, 0.6885507798695867, 0.6885507798695867, 0.6885507798695867, 0.6885507798695867, 0.6885507798695867, 0.6885507798695867, 0.6885507798695867, 0.7024558346427813, 0.7024558346427813]}], \"balanced_accuracy\": [{\"categories\": [\"0\", \"1\", \"2\", \"3\", \"4\", \"5\", \"6\", \"7\", \"8\", \"9\", \"10\", \"11\", \"12\", \"13\", \"14\", \"15\", \"16\", \"17\", \"18\", \"19\", \"20\", \"21\", \"22\", \"23\", \"24\", \"25\", \"26\", \"27\", \"28\", \"29\", \"30\", \"31\", \"32\", \"33\", \"36\", \"37\"], \"mode\": \"markers\", \"name\": \"balanced_accuracy\", \"stepped\": false, \"type\": \"scatter\", \"data\": [0.6645497547209578, 0.6757827639194101, 0.6839744170674966, 0.660113596523269, 0.6889628776535593, 0.670354206245244, 0.6683244194861964, 0.6687426442688581, 0.6365781392468068, 0.6550009953295552, 0.6848654441028993, 0.6644695938573661, 0.6555216133872823, 0.6714979655051575, 0.6649843484500508, 0.6711345684680284, 0.6755694770042251, 0.6729587015216469, 0.673575206513646, 0.6712536821532098, 0.6698028484043349, 0.6702573754855723, 0.6482728507416395, 0.671112140439552, 0.6626613655205499, 0.5538160700114847, 0.6667733266126413, 0.6489012205346012, 0.6724774724302012, 0.6785043419327266, 0.5, 0.6569391434905343, 0.6710950118110921, 0.6700023833717896, 0.6971047779152577, 0.6942448002315699]}, {\"categories\": [\"0\", \"1\", \"2\", \"3\", \"4\", \"5\", \"6\", \"7\", \"8\", \"9\", \"10\", \"11\", \"12\", \"13\", \"14\", \"15\", \"16\", \"17\", \"18\", \"19\", \"20\", \"21\", \"22\", \"23\", \"24\", \"25\", \"26\", \"27\", \"28\", \"29\", \"30\", \"31\", \"32\", \"33\", \"36\", \"37\"], \"mode\": \"lines\", \"name\": \"balanced_accuracy_max\", \"stepped\": true, \"type\": \"scatter\", \"data\": [0.6645497547209578, 0.6757827639194101, 0.6839744170674966, 0.6839744170674966, 0.6889628776535593, 0.6889628776535593, 0.6889628776535593, 0.6889628776535593, 0.6889628776535593, 0.6889628776535593, 0.6889628776535593, 0.6889628776535593, 0.6889628776535593, 0.6889628776535593, 0.6889628776535593, 0.6889628776535593, 0.6889628776535593, 0.6889628776535593, 0.6889628776535593, 0.6889628776535593, 0.6889628776535593, 0.6889628776535593, 0.6889628776535593, 0.6889628776535593, 0.6889628776535593, 0.6889628776535593, 0.6889628776535593, 0.6889628776535593, 0.6889628776535593, 0.6889628776535593, 0.6889628776535593, 0.6889628776535593, 0.6889628776535593, 0.6889628776535593, 0.6971047779152577, 0.6971047779152577]}], \"f1_score_weighted\": [{\"categories\": [\"0\", \"1\", \"2\", \"3\", \"4\", \"5\", \"6\", \"7\", \"8\", \"9\", \"10\", \"11\", \"12\", \"13\", \"14\", \"15\", \"16\", \"17\", \"18\", \"19\", \"20\", \"21\", \"22\", \"23\", \"24\", \"25\", \"26\", \"27\", \"28\", \"29\", \"30\", \"31\", \"32\", \"33\", \"36\", \"37\"], \"mode\": \"markers\", \"name\": \"f1_score_weighted\", \"stepped\": false, \"type\": \"scatter\", \"data\": [0.6902646909910953, 0.7042809409855988, 0.7129133493039308, 0.6921497115212963, 0.7021184276559207, 0.701770686172673, 0.7006542603007084, 0.6983172259631035, 0.6722777077937622, 0.6871034670245109, 0.7149734417891108, 0.6987215586122163, 0.6825261883240625, 0.7010027045203773, 0.6934424677691747, 0.7011120162987294, 0.706036160475888, 0.7074030298700791, 0.7077074299980617, 0.7028460539720761, 0.701169316326544, 0.700157857292204, 0.6750293066376385, 0.6964423221046192, 0.696475038269928, 0.5609591314885989, 0.6998327667922927, 0.6799998630272033, 0.7067857916255704, 0.7116876386227405, 0.47083314115090563, 0.6901395572232054, 0.7040255806225592, 0.6998537094618265, 0.7282484085525611, 0.7223870597551105]}, {\"categories\": [\"0\", \"1\", \"2\", \"3\", \"4\", \"5\", \"6\", \"7\", \"8\", \"9\", \"10\", \"11\", \"12\", \"13\", \"14\", \"15\", \"16\", \"17\", \"18\", \"19\", \"20\", \"21\", \"22\", \"23\", \"24\", \"25\", \"26\", \"27\", \"28\", \"29\", \"30\", \"31\", \"32\", \"33\", \"36\", \"37\"], \"mode\": \"lines\", \"name\": \"f1_score_weighted_max\", \"stepped\": true, \"type\": \"scatter\", \"data\": [0.6902646909910953, 0.7042809409855988, 0.7129133493039308, 0.7129133493039308, 0.7129133493039308, 0.7129133493039308, 0.7129133493039308, 0.7129133493039308, 0.7129133493039308, 0.7129133493039308, 0.7149734417891108, 0.7149734417891108, 0.7149734417891108, 0.7149734417891108, 0.7149734417891108, 0.7149734417891108, 0.7149734417891108, 0.7149734417891108, 0.7149734417891108, 0.7149734417891108, 0.7149734417891108, 0.7149734417891108, 0.7149734417891108, 0.7149734417891108, 0.7149734417891108, 0.7149734417891108, 0.7149734417891108, 0.7149734417891108, 0.7149734417891108, 0.7149734417891108, 0.7149734417891108, 0.7149734417891108, 0.7149734417891108, 0.7149734417891108, 0.7282484085525611, 0.7282484085525611]}], \"accuracy\": [{\"categories\": [\"0\", \"1\", \"2\", \"3\", \"4\", \"5\", \"6\", \"7\", \"8\", \"9\", \"10\", \"11\", \"12\", \"13\", \"14\", \"15\", \"16\", \"17\", \"18\", \"19\", \"20\", \"21\", \"22\", \"23\", \"24\", \"25\", \"26\", \"27\", \"28\", \"29\", \"30\", \"31\", \"32\", \"33\", \"36\", \"37\"], \"mode\": \"markers\", \"name\": \"accuracy\", \"stepped\": false, \"type\": \"scatter\", \"data\": [0.6947021530349634, 0.7137844454208776, 0.723846588412529, 0.7059129998116879, 0.7003138534931894, 0.713796999560605, 0.7137844454208775, 0.7070303182474421, 0.7003075764233256, 0.7003326847027808, 0.7261126106333562, 0.7160128052225221, 0.6868872010545478, 0.7081664678927876, 0.6991902579875713, 0.7149017638566317, 0.7171364007281401, 0.7216245056807482, 0.7261188877032202, 0.7160128052225222, 0.7137718912811499, 0.7137781683510138, 0.6823426024731655, 0.700326407632917, 0.7182537191638942, 0.6498148264390183, 0.714895486786768, 0.6958257485405813, 0.7227355470466387, 0.7238528654823928, 0.6161571778293892, 0.70815391375306, 0.7205197413847215, 0.7081790220325151, 0.7407130751365263, 0.732860460736928]}, {\"categories\": [\"0\", \"1\", \"2\", \"3\", \"4\", \"5\", \"6\", \"7\", \"8\", \"9\", \"10\", \"11\", \"12\", \"13\", \"14\", \"15\", \"16\", \"17\", \"18\", \"19\", \"20\", \"21\", \"22\", \"23\", \"24\", \"25\", \"26\", \"27\", \"28\", \"29\", \"30\", \"31\", \"32\", \"33\", \"36\", \"37\"], \"mode\": \"lines\", \"name\": \"accuracy_max\", \"stepped\": true, \"type\": \"scatter\", \"data\": [0.6947021530349634, 0.7137844454208776, 0.723846588412529, 0.723846588412529, 0.723846588412529, 0.723846588412529, 0.723846588412529, 0.723846588412529, 0.723846588412529, 0.723846588412529, 0.7261126106333562, 0.7261126106333562, 0.7261126106333562, 0.7261126106333562, 0.7261126106333562, 0.7261126106333562, 0.7261126106333562, 0.7261126106333562, 0.7261188877032202, 0.7261188877032202, 0.7261188877032202, 0.7261188877032202, 0.7261188877032202, 0.7261188877032202, 0.7261188877032202, 0.7261188877032202, 0.7261188877032202, 0.7261188877032202, 0.7261188877032202, 0.7261188877032202, 0.7261188877032202, 0.7261188877032202, 0.7261188877032202, 0.7261188877032202, 0.7407130751365263, 0.7407130751365263]}], \"AUC_weighted\": [{\"categories\": [\"0\", \"1\", \"2\", \"3\", \"4\", \"5\", \"6\", \"7\", \"8\", \"9\", \"10\", \"11\", \"12\", \"13\", \"14\", \"15\", \"16\", \"17\", \"18\", \"19\", \"20\", \"21\", \"22\", \"23\", \"24\", \"25\", \"26\", \"27\", \"28\", \"29\", \"30\", \"31\", \"32\", \"33\", \"36\", \"37\"], \"mode\": \"markers\", \"name\": \"AUC_weighted\", \"stepped\": false, \"type\": \"scatter\", \"data\": [0.7500737900446655, 0.769792591535564, 0.7645855146855426, 0.7470938271643317, 0.7582565835142774, 0.7561775554449769, 0.7512872713217746, 0.7472692626711299, 0.7371880331585626, 0.7419618349899249, 0.760307853402501, 0.7514059340301004, 0.7397622492128789, 0.7584353150183998, 0.7477002637198034, 0.7395993534279854, 0.7616178011861432, 0.7318408734445644, 0.7386300092750377, 0.7542186464545708, 0.7547407427967178, 0.740236471931013, 0.717673425690761, 0.749534283086184, 0.753062666460565, 0.7145913822798586, 0.7579879641215637, 0.7447340442576824, 0.7532767000663307, 0.7426184211113344, 0.7301700521247354, 0.7423998621749316, 0.7359420461750736, 0.7544092186669368, 0.7673068888183745, 0.7670195386494914]}, {\"categories\": [\"0\", \"1\", \"2\", \"3\", \"4\", \"5\", \"6\", \"7\", \"8\", \"9\", \"10\", \"11\", \"12\", \"13\", \"14\", \"15\", \"16\", \"17\", \"18\", \"19\", \"20\", \"21\", \"22\", \"23\", \"24\", \"25\", \"26\", \"27\", \"28\", \"29\", \"30\", \"31\", \"32\", \"33\", \"36\", \"37\"], \"mode\": \"lines\", \"name\": \"AUC_weighted_max\", \"stepped\": true, \"type\": \"scatter\", \"data\": [0.7500737900446655, 0.769792591535564, 0.769792591535564, 0.769792591535564, 0.769792591535564, 0.769792591535564, 0.769792591535564, 0.769792591535564, 0.769792591535564, 0.769792591535564, 0.769792591535564, 0.769792591535564, 0.769792591535564, 0.769792591535564, 0.769792591535564, 0.769792591535564, 0.769792591535564, 0.769792591535564, 0.769792591535564, 0.769792591535564, 0.769792591535564, 0.769792591535564, 0.769792591535564, 0.769792591535564, 0.769792591535564, 0.769792591535564, 0.769792591535564, 0.769792591535564, 0.769792591535564, 0.769792591535564, 0.769792591535564, 0.769792591535564, 0.769792591535564, 0.769792591535564, 0.769792591535564, 0.769792591535564]}]}, \"metricName\": null, \"primaryMetricName\": \"accuracy\", \"showLegend\": false}, \"run_metrics\": [{\"name\": \"experiment_status\", \"run_id\": \"AutoML_16f5e833-a184-4cd4-94d6-114ed3982447\", \"categories\": [0, 1, 2, 3, 4, 5, 6, 7, 8, 9, 10, 11, 12, 13], \"series\": [{\"data\": [\"DatasetEvaluation\", \"FeaturesGeneration\", \"DatasetFeaturization\", \"DatasetFeaturizationCompleted\", \"DatasetCrossValidationSplit\", \"ModelSelection\", \"BestRunExplainModel\", \"ModelExplanationDataSetSetup\", \"PickSurrogateModel\", \"EngineeredFeatureExplanations\", \"EngineeredFeatureExplanations\", \"RawFeaturesExplanations\", \"RawFeaturesExplanations\", \"BestRunExplainModel\"]}]}, {\"name\": \"experiment_status_description\", \"run_id\": \"AutoML_16f5e833-a184-4cd4-94d6-114ed3982447\", \"categories\": [0, 1, 2, 3, 4, 5, 6, 7, 8, 9, 10, 11, 12, 13], \"series\": [{\"data\": [\"Gathering dataset statistics.\", \"Generating features for the dataset.\", \"Beginning to fit featurizers and featurize the dataset.\", \"Completed fit featurizers and featurizing the dataset.\", \"Generating individually featurized CV splits.\", \"Beginning model selection.\", \"Best run model explanations started\", \"Model explanations data setup completed\", \"Choosing LightGBM as the surrogate model for explanations\", \"Computation of engineered features started\", \"Computation of engineered features completed\", \"Computation of raw features started\", \"Computation of raw features completed\", \"Best run model explanations completed\"]}]}, {\"name\": \"norm_macro_recall\", \"run_id\": \"AutoML_16f5e833-a184-4cd4-94d6-114ed3982447\", \"categories\": [0], \"series\": [{\"data\": [0.39420955583051553]}]}, {\"name\": \"AUC_micro\", \"run_id\": \"AutoML_16f5e833-a184-4cd4-94d6-114ed3982447\", \"categories\": [0], \"series\": [{\"data\": [0.7888143999993759]}]}, {\"name\": \"recall_score_weighted\", \"run_id\": \"AutoML_16f5e833-a184-4cd4-94d6-114ed3982447\", \"categories\": [0], \"series\": [{\"data\": [0.7407130751365263]}]}, {\"name\": \"recall_score_macro\", \"run_id\": \"AutoML_16f5e833-a184-4cd4-94d6-114ed3982447\", \"categories\": [0], \"series\": [{\"data\": [0.6971047779152577]}]}, {\"name\": \"f1_score_weighted\", \"run_id\": \"AutoML_16f5e833-a184-4cd4-94d6-114ed3982447\", \"categories\": [0], \"series\": [{\"data\": [0.7282484085525611]}]}, {\"name\": \"precision_score_macro\", \"run_id\": \"AutoML_16f5e833-a184-4cd4-94d6-114ed3982447\", \"categories\": [0], \"series\": [{\"data\": [0.73975554369283]}]}, {\"name\": \"recall_score_micro\", \"run_id\": \"AutoML_16f5e833-a184-4cd4-94d6-114ed3982447\", \"categories\": [0], \"series\": [{\"data\": [0.7407130751365263]}]}, {\"name\": \"average_precision_score_weighted\", \"run_id\": \"AutoML_16f5e833-a184-4cd4-94d6-114ed3982447\", \"categories\": [0], \"series\": [{\"data\": [0.7701936426674527]}]}, {\"name\": \"average_precision_score_micro\", \"run_id\": \"AutoML_16f5e833-a184-4cd4-94d6-114ed3982447\", \"categories\": [0], \"series\": [{\"data\": [0.7753838676964959]}]}, {\"name\": \"f1_score_micro\", \"run_id\": \"AutoML_16f5e833-a184-4cd4-94d6-114ed3982447\", \"categories\": [0], \"series\": [{\"data\": [0.7407130751365263]}]}, {\"name\": \"matthews_correlation\", \"run_id\": \"AutoML_16f5e833-a184-4cd4-94d6-114ed3982447\", \"categories\": [0], \"series\": [{\"data\": [0.4346197508322069]}]}, {\"name\": \"AUC_weighted\", \"run_id\": \"AutoML_16f5e833-a184-4cd4-94d6-114ed3982447\", \"categories\": [0], \"series\": [{\"data\": [0.7673068888183745]}]}, {\"name\": \"balanced_accuracy\", \"run_id\": \"AutoML_16f5e833-a184-4cd4-94d6-114ed3982447\", \"categories\": [0], \"series\": [{\"data\": [0.6971047779152577]}]}, {\"name\": \"precision_score_micro\", \"run_id\": \"AutoML_16f5e833-a184-4cd4-94d6-114ed3982447\", \"categories\": [0], \"series\": [{\"data\": [0.7407130751365263]}]}, {\"name\": \"weighted_accuracy\", \"run_id\": \"AutoML_16f5e833-a184-4cd4-94d6-114ed3982447\", \"categories\": [0], \"series\": [{\"data\": [0.7781090819305085]}]}, {\"name\": \"f1_score_macro\", \"run_id\": \"AutoML_16f5e833-a184-4cd4-94d6-114ed3982447\", \"categories\": [0], \"series\": [{\"data\": [0.7024558346427813]}]}, {\"name\": \"accuracy\", \"run_id\": \"AutoML_16f5e833-a184-4cd4-94d6-114ed3982447\", \"categories\": [0], \"series\": [{\"data\": [0.7407130751365263]}]}, {\"name\": \"precision_score_weighted\", \"run_id\": \"AutoML_16f5e833-a184-4cd4-94d6-114ed3982447\", \"categories\": [0], \"series\": [{\"data\": [0.7446481615568833]}]}, {\"name\": \"AUC_macro\", \"run_id\": \"AutoML_16f5e833-a184-4cd4-94d6-114ed3982447\", \"categories\": [0], \"series\": [{\"data\": [0.7673068888183746]}]}, {\"name\": \"average_precision_score_macro\", \"run_id\": \"AutoML_16f5e833-a184-4cd4-94d6-114ed3982447\", \"categories\": [0], \"series\": [{\"data\": [0.7488040970187981]}]}, {\"name\": \"log_loss\", \"run_id\": \"AutoML_16f5e833-a184-4cd4-94d6-114ed3982447\", \"categories\": [0], \"series\": [{\"data\": [0.5675784203127373]}]}], \"run_logs\": \"\\nRun is completed.\", \"graph\": {}, \"widget_settings\": {\"childWidgetDisplay\": \"popup\", \"send_telemetry\": false, \"log_level\": \"INFO\", \"sdk_version\": \"1.19.0\"}, \"loading\": false}"
          },
          "metadata": {}
        },
        {
          "output_type": "stream",
          "name": "stdout",
          "text": [
            "\n",
            "Current status: FeaturesGeneration. Generating features for the dataset.\n",
            "Current status: ModelSelection. Beginning model selection.\n",
            "\n",
            "****************************************************************************************************\n",
            "DATA GUARDRAILS: \n",
            "\n",
            "TYPE:         Class balancing detection\n",
            "STATUS:       PASSED\n",
            "DESCRIPTION:  Your inputs were analyzed, and all classes are balanced in your training data.\n",
            "              Learn more about imbalanced data: https://aka.ms/AutomatedMLImbalancedData\n",
            "\n",
            "****************************************************************************************************\n",
            "\n",
            "TYPE:         Missing feature values imputation\n",
            "STATUS:       PASSED\n",
            "DESCRIPTION:  No feature missing values were detected in the training data.\n",
            "              Learn more about missing value imputation: https://aka.ms/AutomatedMLFeaturization\n",
            "\n",
            "****************************************************************************************************\n",
            "\n",
            "TYPE:         High cardinality feature detection\n",
            "STATUS:       PASSED\n",
            "DESCRIPTION:  Your inputs were analyzed, and no high cardinality features were detected.\n",
            "              Learn more about high cardinality feature handling: https://aka.ms/AutomatedMLFeaturization\n",
            "\n",
            "****************************************************************************************************\n",
            "\n",
            "****************************************************************************************************\n",
            "ITERATION: The iteration being evaluated.\n",
            "PIPELINE: A summary description of the pipeline being evaluated.\n",
            "DURATION: Time taken for the current iteration.\n",
            "METRIC: The result of computing score on the fitted pipeline.\n",
            "BEST: The best observed score thus far.\n",
            "****************************************************************************************************\n",
            "\n",
            " ITERATION   PIPELINE                                       DURATION      METRIC      BEST\n",
            "         0   MaxAbsScaler LightGBM                          0:00:51       0.6947    0.6947\n",
            "         2   MinMaxScaler RandomForest                      0:00:59       0.7238    0.7238\n",
            "         1   MaxAbsScaler XGBoostClassifier                 0:00:55       0.7138    0.7238\n",
            "         6   MinMaxScaler LightGBM                          0:01:02       0.7138    0.7238\n",
            "         7   SparseNormalizer XGBoostClassifier             0:00:52       0.7070    0.7238\n",
            "         3   MinMaxScaler RandomForest                      0:03:35       0.7059    0.7238\n",
            "         4   MinMaxScaler RandomForest                      0:03:29       0.7003    0.7238\n",
            "         5   StandardScalerWrapper XGBoostClassifier        0:03:32       0.7138    0.7238\n",
            "         8   StandardScalerWrapper LightGBM                 0:00:45       0.7003    0.7238\n",
            "        10   StandardScalerWrapper RandomForest             0:00:49       0.7261    0.7261\n",
            "        11   StandardScalerWrapper LightGBM                 0:00:49       0.7160    0.7261\n",
            "         9   RobustScaler SVM                               0:00:58       0.7003    0.7261\n",
            "        12   SparseNormalizer XGBoostClassifier             0:00:58       0.6869    0.7261\n",
            "        13   SparseNormalizer XGBoostClassifier             0:00:48       0.7082    0.7261\n",
            "        14   SparseNormalizer XGBoostClassifier             0:00:49       0.6992    0.7261\n",
            "        15   StandardScalerWrapper LogisticRegression       0:00:48       0.7149    0.7261\n",
            "        16   StandardScalerWrapper LightGBM                 0:01:02       0.7171    0.7261\n",
            "        17   StandardScalerWrapper LightGBM                 0:00:49       0.7216    0.7261\n",
            "        18   StandardScalerWrapper LightGBM                 0:00:57       0.7261    0.7261\n",
            "        19   StandardScalerWrapper LightGBM                 0:00:49       0.7160    0.7261\n",
            "        21   StandardScalerWrapper LogisticRegression       0:00:51       0.7138    0.7261\n",
            "        20   StandardScalerWrapper LightGBM                 0:01:10       0.7138    0.7261\n",
            "        22   SparseNormalizer LightGBM                      0:00:51       0.6823    0.7261\n",
            "        23   SparseNormalizer XGBoostClassifier             0:00:48       0.7003    0.7261\n",
            "        24   MaxAbsScaler LightGBM                          0:00:50       0.7183    0.7261\n",
            "        26   MaxAbsScaler LightGBM                          0:00:42       0.7149    0.7261\n",
            "        25   SparseNormalizer LightGBM                      0:00:57       0.6498    0.7261\n",
            "        27   SparseNormalizer LightGBM                      0:00:42       0.6958    0.7261\n",
            "        28   StandardScalerWrapper LightGBM                 0:00:49       0.7227    0.7261\n",
            "        29   StandardScalerWrapper LightGBM                 0:01:00       0.7239    0.7261\n",
            "        30   SparseNormalizer LightGBM                      0:01:01       0.6162    0.7261\n",
            "        31   StandardScalerWrapper LightGBM                 0:00:57       0.7082    0.7261\n",
            "        32   SparseNormalizer XGBoostClassifier             0:00:48       0.7205    0.7261\n",
            "        33   RobustScaler LightGBM                          0:00:39       0.7082    0.7261\n",
            "        34   StandardScalerWrapper RandomForest             0:00:35          nan    0.7261\n",
            "        35   SparseNormalizer LightGBM                      0:00:31          nan    0.7261\n",
            "        36    VotingEnsemble                                0:01:17       0.7407    0.7407\n",
            "        37    StackEnsemble                                 0:01:26       0.7329    0.7407\n"
          ]
        },
        {
          "output_type": "execute_result",
          "execution_count": 10,
          "data": {
            "text/plain": "{'runId': 'AutoML_16f5e833-a184-4cd4-94d6-114ed3982447',\n 'target': 'cpu-cluster',\n 'status': 'Completed',\n 'startTimeUtc': '2020-12-29T08:10:57.708676Z',\n 'endTimeUtc': '2020-12-29T08:34:40.472049Z',\n 'properties': {'num_iterations': '1000',\n  'training_type': 'TrainFull',\n  'acquisition_function': 'EI',\n  'primary_metric': 'accuracy',\n  'train_split': '0',\n  'acquisition_parameter': '0',\n  'num_cross_validation': '5',\n  'target': 'cpu-cluster',\n  'AMLSettingsJsonString': '{\"path\":null,\"name\":\"automl\",\"subscription_id\":\"6b4af8be-9931-443e-90f6-c4c34a1f9737\",\"resource_group\":\"aml-quickstarts-132278\",\"workspace_name\":\"quick-starts-ws-132278\",\"region\":\"southcentralus\",\"compute_target\":\"cpu-cluster\",\"spark_service\":null,\"azure_service\":\"remote\",\"many_models\":false,\"pipeline_fetch_max_batch_size\":1,\"iterations\":1000,\"primary_metric\":\"accuracy\",\"task_type\":\"classification\",\"data_script\":null,\"validation_size\":0.0,\"n_cross_validations\":5,\"y_min\":null,\"y_max\":null,\"num_classes\":null,\"featurization\":\"auto\",\"_ignore_package_version_incompatibilities\":false,\"is_timeseries\":false,\"max_cores_per_iteration\":1,\"max_concurrent_iterations\":4,\"iteration_timeout_minutes\":5,\"mem_in_mb\":null,\"enforce_time_on_windows\":false,\"experiment_timeout_minutes\":20,\"experiment_exit_score\":null,\"whitelist_models\":null,\"blacklist_algos\":[\"TensorFlowLinearClassifier\",\"TensorFlowDNN\"],\"supported_models\":[\"XGBoostClassifier\",\"AveragedPerceptronClassifier\",\"LightGBM\",\"DecisionTree\",\"SGD\",\"MultinomialNaiveBayes\",\"GradientBoosting\",\"LogisticRegression\",\"RandomForest\",\"ExtremeRandomTrees\",\"SVM\",\"TensorFlowDNN\",\"TensorFlowLinearClassifier\",\"KNN\",\"LinearSVM\",\"BernoulliNaiveBayes\"],\"auto_blacklist\":true,\"blacklist_samples_reached\":false,\"exclude_nan_labels\":true,\"verbosity\":20,\"_debug_log\":\"azureml_automl.log\",\"show_warnings\":false,\"model_explainability\":true,\"service_url\":null,\"sdk_url\":null,\"sdk_packages\":null,\"enable_onnx_compatible_models\":false,\"enable_split_onnx_featurizer_estimator_models\":false,\"vm_type\":\"STANDARD_D2_V2\",\"telemetry_verbosity\":20,\"send_telemetry\":true,\"enable_dnn\":false,\"scenario\":\"SDK-1.13.0\",\"environment_label\":null,\"force_text_dnn\":false,\"enable_feature_sweeping\":true,\"enable_early_stopping\":true,\"early_stopping_n_iters\":10,\"metrics\":null,\"enable_ensembling\":true,\"enable_stack_ensembling\":true,\"ensemble_iterations\":15,\"enable_tf\":false,\"enable_subsampling\":null,\"subsample_seed\":null,\"enable_nimbusml\":false,\"enable_streaming\":false,\"force_streaming\":false,\"track_child_runs\":true,\"allowed_private_models\":[],\"label_column_name\":\"Survived\",\"weight_column_name\":null,\"cv_split_column_names\":null,\"enable_local_managed\":false,\"_local_managed_run_id\":null,\"cost_mode\":1,\"lag_length\":0,\"metric_operation\":\"maximize\",\"preprocess\":true}',\n  'DataPrepJsonString': '{\\\\\"training_data\\\\\": \\\\\"{\\\\\\\\\\\\\"blocks\\\\\\\\\\\\\": [{\\\\\\\\\\\\\"id\\\\\\\\\\\\\": \\\\\\\\\\\\\"59f9fb6a-0aad-45e4-8039-fb154e6c9b63\\\\\\\\\\\\\", \\\\\\\\\\\\\"type\\\\\\\\\\\\\": \\\\\\\\\\\\\"Microsoft.DPrep.GetDatastoreFilesBlock\\\\\\\\\\\\\", \\\\\\\\\\\\\"arguments\\\\\\\\\\\\\": {\\\\\\\\\\\\\"datastores\\\\\\\\\\\\\": [{\\\\\\\\\\\\\"datastoreName\\\\\\\\\\\\\": \\\\\\\\\\\\\"workspaceblobstore\\\\\\\\\\\\\", \\\\\\\\\\\\\"path\\\\\\\\\\\\\": \\\\\\\\\\\\\"Titanic/train_data.csv\\\\\\\\\\\\\", \\\\\\\\\\\\\"resourceGroup\\\\\\\\\\\\\": \\\\\\\\\\\\\"aml-quickstarts-132278\\\\\\\\\\\\\", \\\\\\\\\\\\\"subscription\\\\\\\\\\\\\": \\\\\\\\\\\\\"6b4af8be-9931-443e-90f6-c4c34a1f9737\\\\\\\\\\\\\", \\\\\\\\\\\\\"workspaceName\\\\\\\\\\\\\": \\\\\\\\\\\\\"quick-starts-ws-132278\\\\\\\\\\\\\"}]}, \\\\\\\\\\\\\"localData\\\\\\\\\\\\\": {}, \\\\\\\\\\\\\"isEnabled\\\\\\\\\\\\\": true, \\\\\\\\\\\\\"name\\\\\\\\\\\\\": null, \\\\\\\\\\\\\"annotation\\\\\\\\\\\\\": null}, {\\\\\\\\\\\\\"id\\\\\\\\\\\\\": \\\\\\\\\\\\\"a11191a9-c43d-4df3-8a95-6631871faae0\\\\\\\\\\\\\", \\\\\\\\\\\\\"type\\\\\\\\\\\\\": \\\\\\\\\\\\\"Microsoft.DPrep.ParseDelimitedBlock\\\\\\\\\\\\\", \\\\\\\\\\\\\"arguments\\\\\\\\\\\\\": {\\\\\\\\\\\\\"columnHeadersMode\\\\\\\\\\\\\": 3, \\\\\\\\\\\\\"fileEncoding\\\\\\\\\\\\\": 0, \\\\\\\\\\\\\"handleQuotedLineBreaks\\\\\\\\\\\\\": false, \\\\\\\\\\\\\"preview\\\\\\\\\\\\\": false, \\\\\\\\\\\\\"separator\\\\\\\\\\\\\": \\\\\\\\\\\\\",\\\\\\\\\\\\\", \\\\\\\\\\\\\"skipRows\\\\\\\\\\\\\": 0, \\\\\\\\\\\\\"skipRowsMode\\\\\\\\\\\\\": 0}, \\\\\\\\\\\\\"localData\\\\\\\\\\\\\": {}, \\\\\\\\\\\\\"isEnabled\\\\\\\\\\\\\": true, \\\\\\\\\\\\\"name\\\\\\\\\\\\\": null, \\\\\\\\\\\\\"annotation\\\\\\\\\\\\\": null}, {\\\\\\\\\\\\\"id\\\\\\\\\\\\\": \\\\\\\\\\\\\"3ca69f6f-d13a-430e-8654-5523182b5c3b\\\\\\\\\\\\\", \\\\\\\\\\\\\"type\\\\\\\\\\\\\": \\\\\\\\\\\\\"Microsoft.DPrep.DropColumnsBlock\\\\\\\\\\\\\", \\\\\\\\\\\\\"arguments\\\\\\\\\\\\\": {\\\\\\\\\\\\\"columns\\\\\\\\\\\\\": {\\\\\\\\\\\\\"type\\\\\\\\\\\\\": 0, \\\\\\\\\\\\\"details\\\\\\\\\\\\\": {\\\\\\\\\\\\\"selectedColumns\\\\\\\\\\\\\": [\\\\\\\\\\\\\"Path\\\\\\\\\\\\\"]}}}, \\\\\\\\\\\\\"localData\\\\\\\\\\\\\": {}, \\\\\\\\\\\\\"isEnabled\\\\\\\\\\\\\": true, \\\\\\\\\\\\\"name\\\\\\\\\\\\\": null, \\\\\\\\\\\\\"annotation\\\\\\\\\\\\\": null}, {\\\\\\\\\\\\\"id\\\\\\\\\\\\\": \\\\\\\\\\\\\"facf45b0-d329-479d-b1ce-5752f70c6a99\\\\\\\\\\\\\", \\\\\\\\\\\\\"type\\\\\\\\\\\\\": \\\\\\\\\\\\\"Microsoft.DPrep.SetColumnTypesBlock\\\\\\\\\\\\\", \\\\\\\\\\\\\"arguments\\\\\\\\\\\\\": {\\\\\\\\\\\\\"columnConversion\\\\\\\\\\\\\": [{\\\\\\\\\\\\\"column\\\\\\\\\\\\\": {\\\\\\\\\\\\\"type\\\\\\\\\\\\\": 2, \\\\\\\\\\\\\"details\\\\\\\\\\\\\": {\\\\\\\\\\\\\"selectedColumn\\\\\\\\\\\\\": \\\\\\\\\\\\\"Pclass\\\\\\\\\\\\\"}}, \\\\\\\\\\\\\"typeProperty\\\\\\\\\\\\\": 2}, {\\\\\\\\\\\\\"column\\\\\\\\\\\\\": {\\\\\\\\\\\\\"type\\\\\\\\\\\\\": 2, \\\\\\\\\\\\\"details\\\\\\\\\\\\\": {\\\\\\\\\\\\\"selectedColumn\\\\\\\\\\\\\": \\\\\\\\\\\\\"Sex\\\\\\\\\\\\\"}}, \\\\\\\\\\\\\"typeProperty\\\\\\\\\\\\\": 2}, {\\\\\\\\\\\\\"column\\\\\\\\\\\\\": {\\\\\\\\\\\\\"type\\\\\\\\\\\\\": 2, \\\\\\\\\\\\\"details\\\\\\\\\\\\\": {\\\\\\\\\\\\\"selectedColumn\\\\\\\\\\\\\": \\\\\\\\\\\\\"Age\\\\\\\\\\\\\"}}, \\\\\\\\\\\\\"typeProperty\\\\\\\\\\\\\": 3}, {\\\\\\\\\\\\\"column\\\\\\\\\\\\\": {\\\\\\\\\\\\\"type\\\\\\\\\\\\\": 2, \\\\\\\\\\\\\"details\\\\\\\\\\\\\": {\\\\\\\\\\\\\"selectedColumn\\\\\\\\\\\\\": \\\\\\\\\\\\\"SibSp\\\\\\\\\\\\\"}}, \\\\\\\\\\\\\"typeProperty\\\\\\\\\\\\\": 2}, {\\\\\\\\\\\\\"column\\\\\\\\\\\\\": {\\\\\\\\\\\\\"type\\\\\\\\\\\\\": 2, \\\\\\\\\\\\\"details\\\\\\\\\\\\\": {\\\\\\\\\\\\\"selectedColumn\\\\\\\\\\\\\": \\\\\\\\\\\\\"Parch\\\\\\\\\\\\\"}}, \\\\\\\\\\\\\"typeProperty\\\\\\\\\\\\\": 2}, {\\\\\\\\\\\\\"column\\\\\\\\\\\\\": {\\\\\\\\\\\\\"type\\\\\\\\\\\\\": 2, \\\\\\\\\\\\\"details\\\\\\\\\\\\\": {\\\\\\\\\\\\\"selectedColumn\\\\\\\\\\\\\": \\\\\\\\\\\\\"Fare\\\\\\\\\\\\\"}}, \\\\\\\\\\\\\"typeProperty\\\\\\\\\\\\\": 3}, {\\\\\\\\\\\\\"column\\\\\\\\\\\\\": {\\\\\\\\\\\\\"type\\\\\\\\\\\\\": 2, \\\\\\\\\\\\\"details\\\\\\\\\\\\\": {\\\\\\\\\\\\\"selectedColumn\\\\\\\\\\\\\": \\\\\\\\\\\\\"Embarked\\\\\\\\\\\\\"}}, \\\\\\\\\\\\\"typeProperty\\\\\\\\\\\\\": 2}, {\\\\\\\\\\\\\"column\\\\\\\\\\\\\": {\\\\\\\\\\\\\"type\\\\\\\\\\\\\": 2, \\\\\\\\\\\\\"details\\\\\\\\\\\\\": {\\\\\\\\\\\\\"selectedColumn\\\\\\\\\\\\\": \\\\\\\\\\\\\"Survived\\\\\\\\\\\\\"}}, \\\\\\\\\\\\\"typeProperty\\\\\\\\\\\\\": 2}]}, \\\\\\\\\\\\\"localData\\\\\\\\\\\\\": {}, \\\\\\\\\\\\\"isEnabled\\\\\\\\\\\\\": true, \\\\\\\\\\\\\"name\\\\\\\\\\\\\": null, \\\\\\\\\\\\\"annotation\\\\\\\\\\\\\": null}], \\\\\\\\\\\\\"inspectors\\\\\\\\\\\\\": [], \\\\\\\\\\\\\"meta\\\\\\\\\\\\\": {\\\\\\\\\\\\\"savedDatasetId\\\\\\\\\\\\\": \\\\\\\\\\\\\"6a54aa7c-d176-4b31-ae2e-7e7a6dcb9776\\\\\\\\\\\\\", \\\\\\\\\\\\\"datasetType\\\\\\\\\\\\\": \\\\\\\\\\\\\"tabular\\\\\\\\\\\\\", \\\\\\\\\\\\\"subscriptionId\\\\\\\\\\\\\": \\\\\\\\\\\\\"6b4af8be-9931-443e-90f6-c4c34a1f9737\\\\\\\\\\\\\", \\\\\\\\\\\\\"workspaceId\\\\\\\\\\\\\": \\\\\\\\\\\\\"c9684019-0001-448c-8679-6d9e25448a32\\\\\\\\\\\\\", \\\\\\\\\\\\\"workspaceLocation\\\\\\\\\\\\\": \\\\\\\\\\\\\"southcentralus\\\\\\\\\\\\\"}}\\\\\", \\\\\"activities\\\\\": 0}',\n  'EnableSubsampling': None,\n  'runTemplate': 'AutoML',\n  'azureml.runsource': 'automl',\n  'display_task_type': 'classification',\n  'dependencies_versions': '{\"azureml-widgets\": \"1.19.0\", \"azureml-train\": \"1.19.0\", \"azureml-train-restclients-hyperdrive\": \"1.19.0\", \"azureml-train-core\": \"1.19.0\", \"azureml-train-automl\": \"1.19.0\", \"azureml-train-automl-runtime\": \"1.19.0\", \"azureml-train-automl-client\": \"1.19.0\", \"azureml-tensorboard\": \"1.19.0\", \"azureml-telemetry\": \"1.19.0\", \"azureml-sdk\": \"1.19.0\", \"azureml-samples\": \"0+unknown\", \"azureml-pipeline\": \"1.19.0\", \"azureml-pipeline-steps\": \"1.19.0\", \"azureml-pipeline-core\": \"1.19.0\", \"azureml-opendatasets\": \"1.19.0\", \"azureml-model-management-sdk\": \"1.0.1b6.post1\", \"azureml-mlflow\": \"1.19.0\", \"azureml-interpret\": \"1.19.0\", \"azureml-explain-model\": \"1.19.0\", \"azureml-defaults\": \"1.19.0\", \"azureml-dataset-runtime\": \"1.19.0\", \"azureml-dataprep\": \"2.6.1\", \"azureml-dataprep-rslex\": \"1.4.0\", \"azureml-dataprep-native\": \"26.0.0\", \"azureml-datadrift\": \"1.19.0\", \"azureml-core\": \"1.19.0\", \"azureml-contrib-services\": \"1.19.0\", \"azureml-contrib-server\": \"1.19.0\", \"azureml-contrib-reinforcementlearning\": \"1.19.0\", \"azureml-contrib-pipeline-steps\": \"1.19.0\", \"azureml-contrib-notebook\": \"1.19.0\", \"azureml-contrib-interpret\": \"1.19.0\", \"azureml-contrib-gbdt\": \"1.19.0\", \"azureml-contrib-fairness\": \"1.19.0\", \"azureml-contrib-dataset\": \"1.19.0\", \"azureml-cli-common\": \"1.19.0\", \"azureml-automl-runtime\": \"1.19.0\", \"azureml-automl-core\": \"1.19.0\", \"azureml-accel-models\": \"1.19.0\"}',\n  '_aml_system_scenario_identification': 'Remote.Parent',\n  'ClientType': 'SDK',\n  'environment_cpu_name': 'AzureML-AutoML',\n  'environment_cpu_label': 'prod',\n  'environment_gpu_name': 'AzureML-AutoML-GPU',\n  'environment_gpu_label': 'prod',\n  'root_attribution': 'automl',\n  'attribution': 'AutoML',\n  'Orchestrator': 'AutoML',\n  'CancelUri': 'https://southcentralus.experiments.azureml.net/jasmine/v1.0/subscriptions/6b4af8be-9931-443e-90f6-c4c34a1f9737/resourceGroups/aml-quickstarts-132278/providers/Microsoft.MachineLearningServices/workspaces/quick-starts-ws-132278/experimentids/2675da15-0258-4f86-b138-b795467a32a9/cancel/AutoML_16f5e833-a184-4cd4-94d6-114ed3982447',\n  'ClientSdkVersion': '1.19.0',\n  'snapshotId': '00000000-0000-0000-0000-000000000000',\n  'SetupRunId': 'AutoML_16f5e833-a184-4cd4-94d6-114ed3982447_setup',\n  'SetupRunContainerId': 'dcid.AutoML_16f5e833-a184-4cd4-94d6-114ed3982447_setup',\n  'FeaturizationRunJsonPath': 'featurizer_container.json',\n  'FeaturizationRunId': 'AutoML_16f5e833-a184-4cd4-94d6-114ed3982447_featurize',\n  'ProblemInfoJsonString': '{\"dataset_num_categorical\": 0, \"is_sparse\": false, \"subsampling\": false, \"dataset_classes\": 2, \"dataset_features\": 6, \"dataset_samples\": 891, \"single_frequency_class_detected\": false}',\n  'ModelExplainRunId': 'AutoML_16f5e833-a184-4cd4-94d6-114ed3982447_ModelExplain'},\n 'inputDatasets': [{'dataset': {'id': '6a54aa7c-d176-4b31-ae2e-7e7a6dcb9776'}, 'consumptionDetails': {'type': 'RunInput', 'inputName': 'training_data', 'mechanism': 'Direct'}}],\n 'outputDatasets': [],\n 'logFiles': {}}"
          },
          "metadata": {}
        }
      ],
      "execution_count": 10,
      "metadata": {
        "gather": {
          "logged": 1609230892993
        },
        "jupyter": {
          "outputs_hidden": false,
          "source_hidden": false
        },
        "nteract": {
          "transient": {
            "deleting": false
          }
        }
      }
    },
    {
      "cell_type": "code",
      "source": [
        "assert(remote_run.get_status() == \"Completed\")"
      ],
      "outputs": [],
      "execution_count": 11,
      "metadata": {
        "collapsed": true,
        "jupyter": {
          "source_hidden": false,
          "outputs_hidden": false
        },
        "nteract": {
          "transient": {
            "deleting": false
          }
        },
        "gather": {
          "logged": 1609231292547
        }
      }
    },
    {
      "cell_type": "markdown",
      "source": [
        "## Best Model\n",
        "\n",
        "TODO: In the cell below, get the best model from the automl experiments and display all the properties of the model.\n",
        "\n"
      ],
      "metadata": {}
    },
    {
      "cell_type": "code",
      "source": [
        "# Retrieve and save your best automl model.\r\n",
        "\r\n",
        "### YOUR CODE HERE ###\r\n",
        "best_run, fitted_model = remote_run.get_output()\r\n",
        "\r\n",
        "print(best_run)\r\n",
        "print(fitted_model)\r\n",
        "print(fitted_model.steps[-1])\r\n",
        "print(best_run.properties)"
      ],
      "outputs": [
        {
          "output_type": "stream",
          "name": "stdout",
          "text": [
            "Run(Experiment: automl,\n",
            "Id: AutoML_16f5e833-a184-4cd4-94d6-114ed3982447_36,\n",
            "Type: azureml.scriptrun,\n",
            "Status: Completed)\n",
            "Pipeline(memory=None,\n",
            "         steps=[('datatransformer',\n",
            "                 DataTransformer(enable_dnn=None, enable_feature_sweeping=None,\n",
            "                                 feature_sweeping_config=None,\n",
            "                                 feature_sweeping_timeout=None,\n",
            "                                 featurization_config=None, force_text_dnn=None,\n",
            "                                 is_cross_validation=None,\n",
            "                                 is_onnx_compatible=None, logger=None,\n",
            "                                 observer=None, task=None, working_dir=None)),\n",
            "                ('prefittedsoftvotingclassifier',...\n",
            "                                                                                                objective=None,\n",
            "                                                                                                random_state=None,\n",
            "                                                                                                reg_alpha=0.0,\n",
            "                                                                                                reg_lambda=0.0,\n",
            "                                                                                                silent=True,\n",
            "                                                                                                subsample=1.0,\n",
            "                                                                                                subsample_for_bin=200000,\n",
            "                                                                                                subsample_freq=0,\n",
            "                                                                                                verbose=-10))],\n",
            "                                                                     verbose=False))],\n",
            "                                               flatten_transform=None,\n",
            "                                               weights=[0.1111111111111111,\n",
            "                                                        0.1111111111111111,\n",
            "                                                        0.1111111111111111,\n",
            "                                                        0.1111111111111111,\n",
            "                                                        0.1111111111111111,\n",
            "                                                        0.2222222222222222,\n",
            "                                                        0.1111111111111111,\n",
            "                                                        0.1111111111111111]))],\n",
            "         verbose=False)\n",
            "('prefittedsoftvotingclassifier', PreFittedSoftVotingClassifier(classification_labels=None,\n",
            "                              estimators=[('18',\n",
            "                                           Pipeline(memory=None,\n",
            "                                                    steps=[('standardscalerwrapper',\n",
            "                                                            <azureml.automl.runtime.shared.model_wrappers.StandardScalerWrapper object at 0x7f19676d4278>),\n",
            "                                                           ('lightgbmclassifier',\n",
            "                                                            LightGBMClassifier(boosting_type='goss',\n",
            "                                                                               class_weight=None,\n",
            "                                                                               colsample_bytree=0.3966666666666666,\n",
            "                                                                               importance_typ...\n",
            "                                                                               num_leaves=31,\n",
            "                                                                               objective=None,\n",
            "                                                                               random_state=None,\n",
            "                                                                               reg_alpha=0.0,\n",
            "                                                                               reg_lambda=0.0,\n",
            "                                                                               silent=True,\n",
            "                                                                               subsample=1.0,\n",
            "                                                                               subsample_for_bin=200000,\n",
            "                                                                               subsample_freq=0,\n",
            "                                                                               verbose=-10))],\n",
            "                                                    verbose=False))],\n",
            "                              flatten_transform=None,\n",
            "                              weights=[0.1111111111111111, 0.1111111111111111,\n",
            "                                       0.1111111111111111, 0.1111111111111111,\n",
            "                                       0.1111111111111111, 0.2222222222222222,\n",
            "                                       0.1111111111111111, 0.1111111111111111]))\n",
            "{'runTemplate': 'automl_child', 'pipeline_id': '__AutoML_Ensemble__', 'pipeline_spec': '{\"pipeline_id\":\"__AutoML_Ensemble__\",\"objects\":[{\"module\":\"azureml.train.automl.ensemble\",\"class_name\":\"Ensemble\",\"spec_class\":\"sklearn\",\"param_args\":[],\"param_kwargs\":{\"automl_settings\":\"{\\'task_type\\':\\'classification\\',\\'primary_metric\\':\\'accuracy\\',\\'verbosity\\':20,\\'ensemble_iterations\\':15,\\'is_timeseries\\':False,\\'name\\':\\'automl\\',\\'compute_target\\':\\'cpu-cluster\\',\\'subscription_id\\':\\'6b4af8be-9931-443e-90f6-c4c34a1f9737\\',\\'region\\':\\'southcentralus\\',\\'spark_service\\':None}\",\"ensemble_run_id\":\"AutoML_16f5e833-a184-4cd4-94d6-114ed3982447_36\",\"experiment_name\":\"automl\",\"workspace_name\":\"quick-starts-ws-132278\",\"subscription_id\":\"6b4af8be-9931-443e-90f6-c4c34a1f9737\",\"resource_group_name\":\"aml-quickstarts-132278\"}}]}', 'training_percent': '100', 'predicted_cost': None, 'iteration': '36', '_aml_system_scenario_identification': 'Remote.Child', '_azureml.ComputeTargetType': 'amlcompute', 'ContentSnapshotId': '1bdd1726-aa9a-4c82-be31-b75ef5c0ffbc', 'ProcessInfoFile': 'azureml-logs/process_info.json', 'ProcessStatusFile': 'azureml-logs/process_status.json', 'run_template': 'automl_child', 'run_preprocessor': '', 'run_algorithm': 'VotingEnsemble', 'conda_env_data_location': 'aml://artifact/ExperimentRun/dcid.AutoML_16f5e833-a184-4cd4-94d6-114ed3982447_36/outputs/conda_env_v_1_0_0.yml', 'model_data_location': 'aml://artifact/ExperimentRun/dcid.AutoML_16f5e833-a184-4cd4-94d6-114ed3982447_36/outputs/model.pkl', 'model_size_on_disk': '608366', 'scoring_data_location': 'aml://artifact/ExperimentRun/dcid.AutoML_16f5e833-a184-4cd4-94d6-114ed3982447_36/outputs/scoring_file_v_1_0_0.py', 'model_exp_support': 'True', 'pipeline_graph_version': '1.0.0', 'model_name': 'AutoML16f5e833a36', 'staticProperties': '{}', 'score': '0.7407130751365263', 'run_properties': \"classification_labels=None,\\n                              estimators=[('18',\\n                                           Pipeline(memory=None,\\n                                                    steps=[('standardscalerwrapper',\\n                                                            <azureml.automl.runtime.shared.model_wrappers.StandardScalerWrapper object at 0x7f9ac8a43d68>\", 'pipeline_script': '{\"pipeline_id\":\"__AutoML_Ensemble__\",\"objects\":[{\"module\":\"azureml.train.automl.ensemble\",\"class_name\":\"Ensemble\",\"spec_class\":\"sklearn\",\"param_args\":[],\"param_kwargs\":{\"automl_settings\":\"{\\'task_type\\':\\'classification\\',\\'primary_metric\\':\\'accuracy\\',\\'verbosity\\':20,\\'ensemble_iterations\\':15,\\'is_timeseries\\':False,\\'name\\':\\'automl\\',\\'compute_target\\':\\'cpu-cluster\\',\\'subscription_id\\':\\'6b4af8be-9931-443e-90f6-c4c34a1f9737\\',\\'region\\':\\'southcentralus\\',\\'spark_service\\':None}\",\"ensemble_run_id\":\"AutoML_16f5e833-a184-4cd4-94d6-114ed3982447_36\",\"experiment_name\":\"automl\",\"workspace_name\":\"quick-starts-ws-132278\",\"subscription_id\":\"6b4af8be-9931-443e-90f6-c4c34a1f9737\",\"resource_group_name\":\"aml-quickstarts-132278\"}}]}', 'training_type': 'MeanCrossValidation', 'num_classes': '', 'framework': 'sklearn', 'fit_time': '29', 'goal': 'accuracy_max', 'class_labels': '', 'primary_metric': 'accuracy', 'errors': '{}', 'fitted_pipeline': \"Pipeline(memory=None,\\n         steps=[('datatransformer',\\n                 DataTransformer(enable_dnn=None, enable_feature_sweeping=None,\\n                                 feature_sweeping_config=None,\\n                                 feature_sweeping_timeout=None,\\n                                 featurization_config=None, force_text_dnn=None,\\n                                 is_cross_validation=None,\\n                                 is_onnx_compatible=None, logger=None,\\n                                 observer=None, task=None, working_dir=None)),\\n                ('prefittedsoftvotingclassifier',...\\n                                                                                                objective=None,\\n                                                                                                random_state=None,\\n                                                                                                reg_alpha=0.0,\\n                                                                                                reg_lambda=0.0,\\n                                                                                                silent=True,\\n                                                                                                subsample=1.0,\\n                                                                                                subsample_for_bin=200000,\\n                                                                                                subsample_freq=0,\\n                                                                                                verbose=-10))],\\n                                                                     verbose=False))],\\n                                               flatten_transform=None,\\n                                               weights=[0.1111111111111111,\\n                                                        0.1111111111111111,\\n                                                        0.1111111111111111,\\n                                                        0.1111111111111111,\\n                                                        0.1111111111111111,\\n                                                        0.2222222222222222,\\n                                                        0.1111111111111111,\\n                                                        0.1111111111111111]))],\\n         verbose=False)\", 'friendly_errors': '{}', 'onnx_model_resource': '{}', 'error_code': '', 'failure_reason': '', 'feature_skus': 'automatedml_sdk_guardrails', 'dependencies_versions': '{\"azureml-train-automl-runtime\": \"1.19.0\", \"azureml-train-automl-client\": \"1.19.0\", \"azureml-telemetry\": \"1.19.0\", \"azureml-pipeline-core\": \"1.19.0\", \"azureml-model-management-sdk\": \"1.0.1b6.post1\", \"azureml-interpret\": \"1.19.0\", \"azureml-defaults\": \"1.19.0\", \"azureml-dataset-runtime\": \"1.19.0\", \"azureml-dataprep\": \"2.6.1\", \"azureml-dataprep-rslex\": \"1.4.0\", \"azureml-dataprep-native\": \"26.0.0\", \"azureml-core\": \"1.19.0\", \"azureml-automl-runtime\": \"1.19.0\", \"azureml-automl-core\": \"1.19.0\"}', 'num_cores': '2', 'num_logical_cores': '2', 'peak_memory_usage': '589072', 'vm_configuration': 'Intel(R) Xeon(R) Platinum 8171M CPU @ 2.60GHz', 'core_hours': '0.00804086'}\n"
          ]
        }
      ],
      "execution_count": 22,
      "metadata": {
        "gather": {
          "logged": 1609232546939
        },
        "jupyter": {
          "outputs_hidden": false,
          "source_hidden": false
        },
        "nteract": {
          "transient": {
            "deleting": false
          }
        }
      }
    },
    {
      "cell_type": "code",
      "source": [
        "#TODO: Save the best model\r\n",
        "best_run.download_file('outputs/model.pkl', 'outputs/model.pkl')\r\n",
        "#best_run.download_file('automl_driver.py', 'outputs/automl_driver.py')"
      ],
      "outputs": [],
      "execution_count": 23,
      "metadata": {
        "gather": {
          "logged": 1609232558822
        },
        "jupyter": {
          "outputs_hidden": false,
          "source_hidden": false
        },
        "nteract": {
          "transient": {
            "deleting": false
          }
        }
      }
    },
    {
      "cell_type": "code",
      "source": [
        "# Evaluate on val set\r\n",
        "data_file = \"https://raw.githubusercontent.com/shbv/azure_ml/main/capstone/titanic_data.csv\"\r\n",
        "ds = Dataset.Tabular.from_delimited_files(data_file)\r\n",
        "\r\n",
        "x, y = clean_data(ds)\r\n",
        "x_train, x_test, y_train, y_test = train_test_split(x, y, random_state=0)\r\n",
        "model_file = open('outputs/model.pkl', 'rb')\r\n",
        "model = pickle.load(model_file)\r\n",
        "model_file.close()\r\n",
        "print(\"Accuracy:\", accuracy_score(y_test, model.predict(x_test)))\r\n",
        "print(\"Classification report:\")\r\n",
        "print(classification_report(y_test, model.predict(x_test)))\r\n",
        "print(\"Confusion matrix:\")\r\n",
        "print(confusion_matrix(y_test, model.predict(x_test)))"
      ],
      "outputs": [
        {
          "output_type": "stream",
          "name": "stdout",
          "text": [
            "Accuracy: 0.7757847533632287\n",
            "Classification report:\n",
            "              precision    recall  f1-score   support\n",
            "\n",
            "           0       0.78      0.89      0.83       139\n",
            "           1       0.77      0.58      0.66        84\n",
            "\n",
            "    accuracy                           0.78       223\n",
            "   macro avg       0.77      0.74      0.75       223\n",
            "weighted avg       0.77      0.78      0.77       223\n",
            "\n",
            "Confusion matrix:\n",
            "[[124  15]\n",
            " [ 35  49]]\n"
          ]
        }
      ],
      "execution_count": 15,
      "metadata": {
        "collapsed": true,
        "jupyter": {
          "source_hidden": false,
          "outputs_hidden": false
        },
        "nteract": {
          "transient": {
            "deleting": false
          }
        },
        "gather": {
          "logged": 1609231626932
        }
      }
    },
    {
      "cell_type": "markdown",
      "source": [
        "## Model Deployment\n",
        "\n",
        "Remember you have to deploy only one of the two models you trained.. Perform the steps in the rest of this notebook only if you wish to deploy this model.\n",
        "\n",
        "TODO: In the cell below, register the model, create an inference config and deploy the model as a web service."
      ],
      "metadata": {}
    },
    {
      "cell_type": "code",
      "source": [
        "model = remote_run.register_model(description='automl', tags= {'area': 'titanic'})"
      ],
      "outputs": [],
      "execution_count": 24,
      "metadata": {
        "gather": {
          "logged": 1609232571246
        },
        "jupyter": {
          "outputs_hidden": false,
          "source_hidden": false
        },
        "nteract": {
          "transient": {
            "deleting": false
          }
        }
      }
    },
    {
      "cell_type": "code",
      "source": [
        "from azureml.core.environment import Environment\r\n",
        "from azureml.core.model import InferenceConfig\r\n",
        "\r\n",
        "env = Environment.get(workspace=ws, name=\"AzureML-AutoML\")"
      ],
      "outputs": [],
      "execution_count": 21,
      "metadata": {
        "collapsed": true,
        "jupyter": {
          "source_hidden": false,
          "outputs_hidden": false
        },
        "nteract": {
          "transient": {
            "deleting": false
          }
        },
        "gather": {
          "logged": 1609232486015
        }
      }
    },
    {
      "cell_type": "code",
      "source": [],
      "outputs": [],
      "execution_count": null,
      "metadata": {
        "collapsed": true,
        "jupyter": {
          "source_hidden": false,
          "outputs_hidden": false
        },
        "nteract": {
          "transient": {
            "deleting": false
          }
        }
      }
    },
    {
      "cell_type": "code",
      "source": [],
      "outputs": [],
      "execution_count": null,
      "metadata": {
        "collapsed": true,
        "jupyter": {
          "source_hidden": false,
          "outputs_hidden": false
        },
        "nteract": {
          "transient": {
            "deleting": false
          }
        }
      }
    },
    {
      "cell_type": "code",
      "source": [],
      "outputs": [],
      "execution_count": null,
      "metadata": {
        "collapsed": true,
        "jupyter": {
          "source_hidden": false,
          "outputs_hidden": false
        },
        "nteract": {
          "transient": {
            "deleting": false
          }
        }
      }
    },
    {
      "cell_type": "markdown",
      "source": [
        "TODO: In the cell below, send a request to the web service you deployed to test it."
      ],
      "metadata": {
        "collapsed": true,
        "gather": {
          "logged": 1598431657736
        },
        "jupyter": {
          "outputs_hidden": false,
          "source_hidden": false
        },
        "nteract": {
          "transient": {
            "deleting": false
          }
        }
      }
    },
    {
      "cell_type": "code",
      "source": [],
      "outputs": [],
      "execution_count": null,
      "metadata": {
        "gather": {
          "logged": 1598432707604
        },
        "jupyter": {
          "outputs_hidden": false,
          "source_hidden": false
        },
        "nteract": {
          "transient": {
            "deleting": false
          }
        }
      }
    },
    {
      "cell_type": "markdown",
      "source": [
        "TODO: In the cell below, print the logs of the web service and delete the service"
      ],
      "metadata": {
        "collapsed": true,
        "gather": {
          "logged": 1598432765711
        },
        "jupyter": {
          "outputs_hidden": false,
          "source_hidden": false
        },
        "nteract": {
          "transient": {
            "deleting": false
          }
        }
      }
    },
    {
      "cell_type": "code",
      "source": [],
      "outputs": [],
      "execution_count": null,
      "metadata": {
        "jupyter": {
          "outputs_hidden": false,
          "source_hidden": false
        },
        "nteract": {
          "transient": {
            "deleting": false
          }
        }
      }
    }
  ],
  "metadata": {
    "kernel_info": {
      "name": "python3"
    },
    "kernelspec": {
      "name": "python3",
      "language": "python",
      "display_name": "Python 3"
    },
    "language_info": {
      "name": "python",
      "version": "3.6.9",
      "mimetype": "text/x-python",
      "codemirror_mode": {
        "name": "ipython",
        "version": 3
      },
      "pygments_lexer": "ipython3",
      "nbconvert_exporter": "python",
      "file_extension": ".py"
    },
    "nteract": {
      "version": "nteract-front-end@1.0.0"
    }
  },
  "nbformat": 4,
  "nbformat_minor": 2
}